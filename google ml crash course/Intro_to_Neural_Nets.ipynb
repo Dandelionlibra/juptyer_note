{
  "cells": [
    {
      "cell_type": "code",
      "execution_count": null,
      "metadata": {
        "cellView": "form",
        "id": "wDlWLbfkJtvu"
      },
      "outputs": [],
      "source": [
        "#@title Copyright 2020 Google LLC. Double-click here for license information.\n",
        "# Licensed under the Apache License, Version 2.0 (the \"License\");\n",
        "# you may not use this file except in compliance with the License.\n",
        "# You may obtain a copy of the License at\n",
        "#\n",
        "# https://www.apache.org/licenses/LICENSE-2.0\n",
        "#\n",
        "# Unless required by applicable law or agreed to in writing, software\n",
        "# distributed under the License is distributed on an \"AS IS\" BASIS,\n",
        "# WITHOUT WARRANTIES OR CONDITIONS OF ANY KIND, either express or implied.\n",
        "# See the License for the specific language governing permissions and\n",
        "# limitations under the License."
      ]
    },
    {
      "cell_type": "markdown",
      "metadata": {
        "id": "T4r2z30vJSbA"
      },
      "source": [
        "# Colabs\n",
        "\n",
        "Machine Learning Crash Course uses Colaboratories (Colabs) for all programming exercises. Colab is Google's implementation of [Jupyter Notebook](https://jupyter.org/). For more information about Colabs and how to use them, go to [Welcome to Colaboratory](https://research.google.com/colaboratory)."
      ]
    },
    {
      "cell_type": "markdown",
      "metadata": {
        "id": "TL5y5fY9Jy_x"
      },
      "source": [
        "# Introduction to Neural Nets\n",
        "\n",
        "This Colab builds a deep neural network to perform more sophisticated linear regression than the earlier Colabs."
      ]
    },
    {
      "cell_type": "markdown",
      "metadata": {
        "id": "7RDY3EeAluPd"
      },
      "source": [
        "## Learning Objectives:\n",
        "\n",
        "After doing this Colab, you'll know how to do the following:\n",
        "\n",
        "  * Create a simple deep neural network.\n",
        "  * Tune the hyperparameters for a simple deep neural network."
      ]
    },
    {
      "cell_type": "markdown",
      "metadata": {
        "id": "XGj0PNaJlubZ"
      },
      "source": [
        "## The Dataset\n",
        "  \n",
        "Like several of the previous Colabs, this Colab uses the [California Housing Dataset](https://developers.google.com/machine-learning/crash-course/california-housing-data-description)."
      ]
    },
    {
      "cell_type": "markdown",
      "metadata": {
        "id": "xchnxAsaKKqO"
      },
      "source": [
        "## Import relevant modules\n",
        "\n",
        "The following hidden code cell imports the necessary code to run the code in the rest of this Colaboratory."
      ]
    },
    {
      "cell_type": "code",
      "execution_count": 2,
      "metadata": {
        "id": "9n9_cTveKmse"
      },
      "outputs": [
        {
          "name": "stdout",
          "output_type": "stream",
          "text": [
            "Imported modules.\n"
          ]
        }
      ],
      "source": [
        "#@title Import relevant modules\n",
        "import numpy as np\n",
        "import pandas as pd\n",
        "import tensorflow as tf\n",
        "from matplotlib import pyplot as plt\n",
        "import seaborn as sns\n",
        "\n",
        "# The following lines adjust the granularity of reporting.\n",
        "pd.options.display.max_rows = 10\n",
        "pd.options.display.float_format = \"{:.1f}\".format\n",
        "\n",
        "print(\"Imported modules.\")"
      ]
    },
    {
      "cell_type": "markdown",
      "metadata": {
        "id": "X_TaJhU4KcuY"
      },
      "source": [
        "## Load the dataset\n",
        "\n",
        "Like most of the previous Colab exercises, this exercise uses the California Housing Dataset.  The following code cell loads the separate .csv files and creates the following two pandas DataFrames:\n",
        "\n",
        "* `train_df`, which contains the training set\n",
        "* `test_df`, which contains the test set\n",
        "   "
      ]
    },
    {
      "cell_type": "code",
      "execution_count": 3,
      "metadata": {
        "id": "JZlvdpyYKx7V"
      },
      "outputs": [],
      "source": [
        "train_df = pd.read_csv(\"https://download.mlcc.google.com/mledu-datasets/california_housing_train.csv\")\n",
        "train_df = train_df.reindex(np.random.permutation(train_df.index)) # shuffle the examples\n",
        "test_df = pd.read_csv(\"https://download.mlcc.google.com/mledu-datasets/california_housing_test.csv\")"
      ]
    },
    {
      "cell_type": "code",
      "execution_count": 5,
      "metadata": {},
      "outputs": [
        {
          "name": "stdout",
          "output_type": "stream",
          "text": [
            "       longitude  latitude  housing_median_age  total_rooms  total_bedrooms  \\\n",
            "4204      -118.0      33.7                18.0       1994.0           578.0   \n",
            "16627     -122.7      38.4                30.0       2099.0           406.0   \n",
            "7665      -118.4      33.9                27.0       1688.0           331.0   \n",
            "1820      -117.3      34.2                16.0         30.0             3.0   \n",
            "1095      -117.1      32.7                37.0       2045.0           502.0   \n",
            "\n",
            "       population  households  median_income  median_house_value  \n",
            "4204       3031.0       577.0            2.8            237500.0  \n",
            "16627      1156.0       401.0            2.8            152300.0  \n",
            "7665        811.0       327.0            4.5            334200.0  \n",
            "1820         49.0         8.0            4.6            250000.0  \n",
            "1095       1920.0       472.0            1.8             83300.0  \n",
            "   longitude  latitude  housing_median_age  total_rooms  total_bedrooms  \\\n",
            "0     -122.0      37.4                27.0       3885.0           661.0   \n",
            "1     -118.3      34.3                43.0       1510.0           310.0   \n",
            "2     -117.8      33.8                27.0       3589.0           507.0   \n",
            "3     -118.4      33.8                28.0         67.0            15.0   \n",
            "4     -119.7      36.3                19.0       1241.0           244.0   \n",
            "\n",
            "   population  households  median_income  median_house_value  \n",
            "0      1537.0       606.0            6.6            344700.0  \n",
            "1       809.0       277.0            3.6            176500.0  \n",
            "2      1484.0       495.0            5.8            270500.0  \n",
            "3        49.0        11.0            6.1            330000.0  \n",
            "4       850.0       237.0            2.9             81700.0  \n"
          ]
        }
      ],
      "source": [
        "print(train_df.head())\n",
        "print(test_df.head())"
      ]
    },
    {
      "cell_type": "markdown",
      "metadata": {
        "id": "b9ehCgIRjTxy"
      },
      "source": [
        "## Represent data\n",
        "\n",
        "The following code cell creates preprocessing layers outputting three features:\n",
        "\n",
        "* `latitude` X `longitude` (a feature cross)\n",
        "* `median_income`\n",
        "* `population`\n",
        "\n",
        "This code cell specifies the features that you'll ultimately train the model on and how each of those features will be represented. The transformations (collected in `prepocessing_layers`) don't actually get applied until you pass a DataFrame to it, which will happen when we train the model.\n",
        "\n",
        "We'll use `preprocessing_layers` for both our linear regression model and our neural network model.\n",
        "\n",
        "(The [`keras.FeatureSpace`](https://keras.io/examples/structured_data/structured_data_classification_with_feature_space) utility offers an alternative to building individual Keras preprocessing layers -- give it a try, if you're feeling adventurous!)"
      ]
    },
    {
      "cell_type": "code",
      "execution_count": 12,
      "metadata": {
        "id": "8EkNAQhnjSu-"
      },
      "outputs": [
        {
          "name": "stdout",
          "output_type": "stream",
          "text": [
            "Preprocessing layers defined.\n"
          ]
        }
      ],
      "source": [
        "# Keras Input tensors of float values.\n",
        "# 每個輸入層的形狀為 (1,)，即每個樣本只有一個值，數據類型為 tf.float32。\n",
        "inputs = {\n",
        "    'latitude':\n",
        "        tf.keras.layers.Input(shape=(1,), dtype=tf.float32,\n",
        "                              name='latitude'),\n",
        "    'longitude':\n",
        "        tf.keras.layers.Input(shape=(1,), dtype=tf.float32,\n",
        "                              name='longitude'),\n",
        "    'median_income':\n",
        "        tf.keras.layers.Input(shape=(1,), dtype=tf.float32,\n",
        "                              name='median_income'),\n",
        "    'population':\n",
        "        tf.keras.layers.Input(shape=(1,), dtype=tf.float32,\n",
        "                              name='population')\n",
        "}\n",
        "\n",
        "# Normalization 層來標準化中位數收入和人口數據。這些層會學習訓練數據的平均值和標準差，並將其應用於輸入數據。\n",
        "# Create a Normalization layer to normalize the median_income data.\n",
        "median_income = tf.keras.layers.Normalization(name='normalization_median_income',axis=None)\n",
        "# median_income.adapt(train_df['median_income'])\n",
        "median_income.adapt(np.array(train_df['median_income']))\n",
        "median_income = median_income(inputs.get('median_income'))\n",
        "\n",
        "# Create a Normalization layer to normalize the population data.\n",
        "population = tf.keras.layers.Normalization(name='normalization_population',axis=None)\n",
        "# population.adapt(train_df['population'])\n",
        "population.adapt(np.array(train_df['population']))\n",
        "population = population(inputs.get('population'))\n",
        "\n",
        "\n",
        "# 緯度和經度的正規化和離散化\n",
        "# Create a list of numbers representing the bucket boundaries for latitude.\n",
        "# Because we're using a Normalization layer, values for latitude and longitude\n",
        "# will be in the range of approximately -3 to 3 (representing the Z score).\n",
        "# We'll create 20 buckets, which requires 21 bucket boundaries (hence, 20+1).\n",
        "# np.linspace 函數用於生成在指定範圍內的等間距數值，將緯度數據分成桶（buckets）的邊界。\n",
        "# start：序列的開始值。\n",
        "# stop：序列的結束值。\n",
        "# num：生成的數值個數，包括 start 和 stop，ex.生成的數值個數是 21（即 20+1）因為要創建20個桶，需要21個邊界值。\n",
        "latitude_boundaries = np.linspace(-3, 3, 20+1).tolist()\n",
        "\n",
        "# Create a Normalization layer to normalize the latitude data.\n",
        "latitude = tf.keras.layers.Normalization(name='normalization_latitude',axis=None)\n",
        "latitude.adapt(np.array(train_df['latitude']))\n",
        "latitude = latitude(inputs.get('latitude'))\n",
        "\n",
        "\n",
        "# Create a Discretization layer to separate the latitude data into buckets.\n",
        "latitude = tf.keras.layers.Discretization(\n",
        "    bin_boundaries=latitude_boundaries,\n",
        "    name='discretization_latitude')(latitude)\n",
        "\n",
        "# Create a list of numbers representing the bucket boundaries for longitude.\n",
        "longitude_boundaries = np.linspace(-3, 3, 20+1).tolist()\n",
        "\n",
        "# Create a Normalization layer to normalize the longitude data.\n",
        "longitude = tf.keras.layers.Normalization(name='normalization_longitude',axis=None)\n",
        "longitude.adapt(np.array(train_df['longitude']))\n",
        "longitude = longitude(inputs.get('longitude'))\n",
        "\n",
        "# Create a Discretization layer to separate the longitude data into buckets.\n",
        "longitude = tf.keras.layers.Discretization(\n",
        "    bin_boundaries=longitude_boundaries,\n",
        "    name='discretization_longitude')(longitude)\n",
        "\n",
        "# Cross the latitude and longitude features into a single one-hot vector.\n",
        "# 使用 HashedCrossing 層對緯度和經度特徵進行交叉處理，將其轉換為單個 one-hot 向量\n",
        "# num_bins 表示哈希桶的數量，可以調整以平衡精度和性能。\n",
        "feature_cross = tf.keras.layers.HashedCrossing(\n",
        "    # num_bins can be adjusted: Higher values improve accuracy, lower values\n",
        "    # improve performance.\n",
        "    num_bins=len(latitude_boundaries) * len(longitude_boundaries),\n",
        "    output_mode='one_hot',\n",
        "    name='cross_latitude_longitude')([latitude, longitude])\n",
        "\n",
        "# Concatenate our inputs into a single tensor.\n",
        "# 串聯輸入層，將處理後的緯度和經度交叉特徵、中位數收入和人口數據串聯成一個單一的張量，這個張量將作為模型的輸入。\n",
        "preprocessing_layers = tf.keras.layers.Concatenate()(\n",
        "    [feature_cross, median_income, population])\n",
        "\n",
        "print(\"Preprocessing layers defined.\")"
      ]
    },
    {
      "cell_type": "code",
      "execution_count": 13,
      "metadata": {},
      "outputs": [
        {
          "name": "stdout",
          "output_type": "stream",
          "text": [
            "[1338.  754.  753. ... 3847. 1103. 1755.]\n"
          ]
        }
      ],
      "source": [
        "print(np.array(train_df['population']))"
      ]
    },
    {
      "cell_type": "code",
      "execution_count": 14,
      "metadata": {},
      "outputs": [
        {
          "name": "stdout",
          "output_type": "stream",
          "text": [
            "1939    1338.0\n",
            "6417     754.0\n",
            "9893     753.0\n",
            "1131    1392.0\n",
            "3262    3356.0\n",
            "         ...  \n",
            "12199   1789.0\n",
            "6181     125.0\n",
            "7701    3847.0\n",
            "6770    1103.0\n",
            "13125   1755.0\n",
            "Name: population, Length: 17000, dtype: float64\n"
          ]
        }
      ],
      "source": [
        "print(train_df['population'])"
      ]
    },
    {
      "cell_type": "code",
      "execution_count": 15,
      "metadata": {
        "id": "AvClzyyP48PS"
      },
      "outputs": [
        {
          "data": {
            "text/plain": [
              "<KerasTensor shape=(None, 441), dtype=float32, sparse=False, name=keras_tensor_22>"
            ]
          },
          "execution_count": 15,
          "metadata": {},
          "output_type": "execute_result"
        }
      ],
      "source": [
        "feature_cross"
      ]
    },
    {
      "cell_type": "code",
      "execution_count": 16,
      "metadata": {
        "id": "T6h4krWW4_FU"
      },
      "outputs": [
        {
          "data": {
            "text/plain": [
              "<KerasTensor shape=(None, 1), dtype=int64, sparse=False, name=keras_tensor_19>"
            ]
          },
          "execution_count": 16,
          "metadata": {},
          "output_type": "execute_result"
        }
      ],
      "source": [
        "latitude"
      ]
    },
    {
      "cell_type": "markdown",
      "metadata": {
        "id": "Ak_TMAzGOIFq"
      },
      "source": [
        "## Build a linear regression model as a baseline\n",
        "\n",
        "Before creating a deep neural net, find a [baseline](https://developers.google.com/machine-learning/glossary/#baseline) loss by running a simple linear regression model that uses the preprocessing layers you just created.\n"
      ]
    },
    {
      "cell_type": "markdown",
      "metadata": {
        "id": "KJcPIAH58N6m"
      },
      "source": [
        "## Define the plotting function."
      ]
    },
    {
      "cell_type": "code",
      "execution_count": 17,
      "metadata": {
        "id": "QF0BFRXTOeR3"
      },
      "outputs": [
        {
          "name": "stdout",
          "output_type": "stream",
          "text": [
            "Defined the plot_the_loss_curve function.\n"
          ]
        }
      ],
      "source": [
        "def plot_the_loss_curve(epochs, mse_training, mse_validation):\n",
        "  \"\"\"Plot a curve of loss vs. epoch.\"\"\"\n",
        "\n",
        "  plt.figure()\n",
        "  plt.xlabel(\"Epoch\")\n",
        "  plt.ylabel(\"Mean Squared Error\")\n",
        "\n",
        "  plt.plot(epochs, mse_training, label=\"Training Loss\")\n",
        "  plt.plot(epochs, mse_validation, label=\"Validation Loss\")\n",
        "\n",
        "  # mse_training is a pandas Series, so convert it to a list first.\n",
        "  merged_mse_lists = mse_training.tolist() + mse_validation\n",
        "  highest_loss = max(merged_mse_lists)\n",
        "  lowest_loss = min(merged_mse_lists)\n",
        "  top_of_y_axis = highest_loss * 1.03\n",
        "  bottom_of_y_axis = lowest_loss * 0.97\n",
        "\n",
        "  plt.ylim([bottom_of_y_axis, top_of_y_axis])\n",
        "  plt.legend()\n",
        "  plt.show()\n",
        "\n",
        "print(\"Defined the plot_the_loss_curve function.\")"
      ]
    },
    {
      "cell_type": "markdown",
      "metadata": {
        "id": "BvxeMUiF8JoL"
      },
      "source": [
        "## Define functions to create and train a linear regression model"
      ]
    },
    {
      "cell_type": "code",
      "execution_count": 18,
      "metadata": {
        "id": "RW4Qe710LgnG"
      },
      "outputs": [
        {
          "name": "stdout",
          "output_type": "stream",
          "text": [
            "Defined the create_model and train_model functions.\n"
          ]
        }
      ],
      "source": [
        "def create_model(my_inputs, my_outputs, my_learning_rate):\n",
        "  \"\"\"Create and compile a simple linear regression model.\"\"\"\n",
        "  model = tf.keras.Model(inputs=my_inputs, outputs=my_outputs)\n",
        "\n",
        "  # Construct the layers into a model that TensorFlow can execute.\n",
        "  model.compile(optimizer=tf.keras.optimizers.Adam(\n",
        "      learning_rate=my_learning_rate),\n",
        "      loss=\"mean_squared_error\",\n",
        "      metrics=[tf.keras.metrics.MeanSquaredError()])\n",
        "\n",
        "  return model\n",
        "\n",
        "\n",
        "def train_model(model, dataset, epochs, batch_size, label_name, validation_split=0.1):\n",
        "  \"\"\"Feed a dataset into the model in order to train it.\"\"\"\n",
        "\n",
        "  # Split the dataset into features and label.\n",
        "  features = {name:np.array(value) for name, value in dataset.items()}\n",
        "  label = train_median_house_value_normalized(\n",
        "      np.array(features.pop(label_name)))\n",
        "  history = model.fit(x=features, y=label, batch_size=batch_size,\n",
        "                      epochs=epochs, shuffle=True, validation_split=validation_split)\n",
        "\n",
        "  # Get details that will be useful for plotting the loss curve.\n",
        "  epochs = history.epoch\n",
        "  hist = pd.DataFrame(history.history)\n",
        "  mse = hist[\"mean_squared_error\"]\n",
        "\n",
        "  return epochs, mse, history.history\n",
        "\n",
        "print(\"Defined the create_model and train_model functions.\")"
      ]
    },
    {
      "cell_type": "markdown",
      "metadata": {
        "id": "vrwhcAqI8Vce"
      },
      "source": [
        "## Define normalized label columns\n",
        "Create Normalization layers to normalize the median_house_value data.Because median_house_value is our label (i.e., the target value we're predicting), these layers won't be added to our model.  \n",
        "創建標準化層以標準化 median_house_value 資料。由於 median_house_value 是我們的標籤（即要預測的目標值），這些層不會被添加到我們的模型中。  \n",
        "* 提高模型的穩定性和性能：標準化可以讓模型更快收斂，並且可以提高預測的準確性。這是因為標準化可以讓數據的範圍更小，避免因為數值差異過大而影響模型的學習過程。\n",
        "\n",
        "* 避免數值問題：如果數據範圍過大，可能會引起數值不穩定或溢出等問題，特別是在使用梯度下降法進行優化的過程中。"
      ]
    },
    {
      "cell_type": "code",
      "execution_count": 19,
      "metadata": {
        "id": "avKFnYf8RMyU"
      },
      "outputs": [],
      "source": [
        "# 創建標準化層 (Normalization layer)\n",
        "# axis=None 表示對整個張量進行標準化。\n",
        "train_median_house_value_normalized = tf.keras.layers.Normalization(axis=None)\n",
        "# 適配標準化層 (adapt method)\n",
        "# adapt 方法會計算訓練集 median_house_value 資料的均值和標準差。這樣，標準化層就可以使用這些統計值來轉換資料。\n",
        "train_median_house_value_normalized.adapt(\n",
        "    np.array(train_df['median_house_value']))\n",
        "\n",
        "test_median_house_value_normalized = tf.keras.layers.Normalization(axis=None)\n",
        "test_median_house_value_normalized.adapt(\n",
        "    np.array(test_df['median_house_value']))\n"
      ]
    },
    {
      "cell_type": "code",
      "execution_count": 20,
      "metadata": {
        "id": "VL7ZNprS9f-W"
      },
      "outputs": [
        {
          "data": {
            "text/plain": [
              "<Normalization name=normalization_7, built=True>"
            ]
          },
          "execution_count": 20,
          "metadata": {},
          "output_type": "execute_result"
        }
      ],
      "source": [
        "train_median_house_value_normalized"
      ]
    },
    {
      "cell_type": "markdown",
      "metadata": {
        "id": "2WixM0QL-DO3"
      },
      "source": [
        "## Define linear regression model outputs\n"
      ]
    },
    {
      "cell_type": "code",
      "execution_count": 21,
      "metadata": {
        "id": "v8JfAtFArOWq"
      },
      "outputs": [],
      "source": [
        "def get_outputs_linear_regression():\n",
        "  # Create the Dense output layer.\n",
        "  dense_output = tf.keras.layers.Dense(units=1,\n",
        "                              name='dense_output')(preprocessing_layers)\n",
        "\n",
        "  # Define an output dictionary we'll send to the model constructor.\n",
        "  outputs = {\n",
        "    'dense_output': dense_output\n",
        "  }\n",
        "  return outputs"
      ]
    },
    {
      "cell_type": "markdown",
      "metadata": {
        "id": "f47LmxF5X_pu"
      },
      "source": [
        "Run the following code cell to invoke the functions defined in the preceding two code cells. (Ignore the warning messages.)\n",
        "\n",
        "**Note:** Because we've scaled all the input data, **including the label**, the resulting loss values will be *much less* than models in previous Colabs (e.g., [Representation with a Feature Cross](https://colab.sandbox.google.com/github/google/eng-edu/blob/main/ml/cc/exercises/representation_with_a_feature_cross.ipynb)).\n",
        "\n",
        "**Note:** Depending on the version of TensorFlow, running this cell might generate WARNING messages. Please ignore these warnings."
      ]
    },
    {
      "cell_type": "code",
      "execution_count": 25,
      "metadata": {
        "id": "tsfE4ujDL4ju"
      },
      "outputs": [
        {
          "name": "stdout",
          "output_type": "stream",
          "text": [
            "Epoch 1/15\n",
            "\u001b[1m14/14\u001b[0m \u001b[32m━━━━━━━━━━━━━━━━━━━━\u001b[0m\u001b[37m\u001b[0m \u001b[1m1s\u001b[0m 18ms/step - loss: 1.0362 - mean_squared_error: 1.0362 - val_loss: 1.0061 - val_mean_squared_error: 1.0061\n",
            "Epoch 2/15\n",
            "\u001b[1m14/14\u001b[0m \u001b[32m━━━━━━━━━━━━━━━━━━━━\u001b[0m\u001b[37m\u001b[0m \u001b[1m0s\u001b[0m 7ms/step - loss: 1.0122 - mean_squared_error: 1.0122 - val_loss: 1.0009 - val_mean_squared_error: 1.0009\n",
            "Epoch 3/15\n",
            "\u001b[1m14/14\u001b[0m \u001b[32m━━━━━━━━━━━━━━━━━━━━\u001b[0m\u001b[37m\u001b[0m \u001b[1m0s\u001b[0m 8ms/step - loss: 1.0117 - mean_squared_error: 1.0117 - val_loss: 0.9995 - val_mean_squared_error: 0.9995\n",
            "Epoch 4/15\n",
            "\u001b[1m14/14\u001b[0m \u001b[32m━━━━━━━━━━━━━━━━━━━━\u001b[0m\u001b[37m\u001b[0m \u001b[1m0s\u001b[0m 7ms/step - loss: 1.0021 - mean_squared_error: 1.0021 - val_loss: 0.9988 - val_mean_squared_error: 0.9988\n",
            "Epoch 5/15\n",
            "\u001b[1m14/14\u001b[0m \u001b[32m━━━━━━━━━━━━━━━━━━━━\u001b[0m\u001b[37m\u001b[0m \u001b[1m0s\u001b[0m 7ms/step - loss: 0.9954 - mean_squared_error: 0.9954 - val_loss: 0.9981 - val_mean_squared_error: 0.9981\n",
            "Epoch 6/15\n",
            "\u001b[1m14/14\u001b[0m \u001b[32m━━━━━━━━━━━━━━━━━━━━\u001b[0m\u001b[37m\u001b[0m \u001b[1m0s\u001b[0m 6ms/step - loss: 0.9924 - mean_squared_error: 0.9924 - val_loss: 0.9973 - val_mean_squared_error: 0.9973\n",
            "Epoch 7/15\n",
            "\u001b[1m14/14\u001b[0m \u001b[32m━━━━━━━━━━━━━━━━━━━━\u001b[0m\u001b[37m\u001b[0m \u001b[1m0s\u001b[0m 6ms/step - loss: 1.0106 - mean_squared_error: 1.0106 - val_loss: 0.9987 - val_mean_squared_error: 0.9987\n",
            "Epoch 8/15\n",
            "\u001b[1m14/14\u001b[0m \u001b[32m━━━━━━━━━━━━━━━━━━━━\u001b[0m\u001b[37m\u001b[0m \u001b[1m0s\u001b[0m 6ms/step - loss: 0.9906 - mean_squared_error: 0.9906 - val_loss: 0.9954 - val_mean_squared_error: 0.9954\n",
            "Epoch 9/15\n",
            "\u001b[1m14/14\u001b[0m \u001b[32m━━━━━━━━━━━━━━━━━━━━\u001b[0m\u001b[37m\u001b[0m \u001b[1m0s\u001b[0m 7ms/step - loss: 1.0033 - mean_squared_error: 1.0033 - val_loss: 1.0000 - val_mean_squared_error: 1.0000\n",
            "Epoch 10/15\n",
            "\u001b[1m14/14\u001b[0m \u001b[32m━━━━━━━━━━━━━━━━━━━━\u001b[0m\u001b[37m\u001b[0m \u001b[1m0s\u001b[0m 6ms/step - loss: 0.9999 - mean_squared_error: 0.9999 - val_loss: 0.9936 - val_mean_squared_error: 0.9936\n",
            "Epoch 11/15\n",
            "\u001b[1m14/14\u001b[0m \u001b[32m━━━━━━━━━━━━━━━━━━━━\u001b[0m\u001b[37m\u001b[0m \u001b[1m0s\u001b[0m 6ms/step - loss: 1.0045 - mean_squared_error: 1.0045 - val_loss: 0.9977 - val_mean_squared_error: 0.9977\n",
            "Epoch 12/15\n",
            "\u001b[1m14/14\u001b[0m \u001b[32m━━━━━━━━━━━━━━━━━━━━\u001b[0m\u001b[37m\u001b[0m \u001b[1m0s\u001b[0m 7ms/step - loss: 0.9928 - mean_squared_error: 0.9928 - val_loss: 0.9923 - val_mean_squared_error: 0.9923\n",
            "Epoch 13/15\n",
            "\u001b[1m14/14\u001b[0m \u001b[32m━━━━━━━━━━━━━━━━━━━━\u001b[0m\u001b[37m\u001b[0m \u001b[1m0s\u001b[0m 9ms/step - loss: 0.9901 - mean_squared_error: 0.9901 - val_loss: 0.9942 - val_mean_squared_error: 0.9942\n",
            "Epoch 14/15\n",
            "\u001b[1m14/14\u001b[0m \u001b[32m━━━━━━━━━━━━━━━━━━━━\u001b[0m\u001b[37m\u001b[0m \u001b[1m0s\u001b[0m 8ms/step - loss: 0.9769 - mean_squared_error: 0.9769 - val_loss: 0.9910 - val_mean_squared_error: 0.9910\n",
            "Epoch 15/15\n",
            "\u001b[1m14/14\u001b[0m \u001b[32m━━━━━━━━━━━━━━━━━━━━\u001b[0m\u001b[37m\u001b[0m \u001b[1m0s\u001b[0m 7ms/step - loss: 0.9754 - mean_squared_error: 0.9754 - val_loss: 0.9904 - val_mean_squared_error: 0.9904\n"
          ]
        },
        {
          "data": {
            "image/png": "[encoded data removed]",
            "text/plain": [
              "<Figure size 640x480 with 1 Axes>"
            ]
          },
          "metadata": {},
          "output_type": "display_data"
        },
        {
          "name": "stdout",
          "output_type": "stream",
          "text": [
            "\n",
            " Evaluate the linear regression model against the test set:\n",
            "\u001b[1m3/3\u001b[0m \u001b[32m━━━━━━━━━━━━━━━━━━━━\u001b[0m\u001b[37m\u001b[0m \u001b[1m0s\u001b[0m 7ms/step - loss: 0.9773 - mean_squared_error: 0.9773 \n"
          ]
        },
        {
          "data": {
            "text/plain": [
              "{'loss': 0.9946836233139038, 'mean_squared_error': 0.9946836233139038}"
            ]
          },
          "execution_count": 25,
          "metadata": {},
          "output_type": "execute_result"
        }
      ],
      "source": [
        "# The following variables are the hyperparameters.\n",
        "learning_rate = 0.01\n",
        "epochs = 15\n",
        "batch_size = 1000\n",
        "label_name = \"median_house_value\"\n",
        "\n",
        "# Split the original training set into a reduced training set and a\n",
        "# validation set.\n",
        "validation_split = 0.2\n",
        "\n",
        "outputs = get_outputs_linear_regression()\n",
        "\n",
        "# Establish the model's topography.\n",
        "my_model = create_model(inputs, outputs, learning_rate)\n",
        "\n",
        "# Train the model on the normalized training set.\n",
        "epochs, mse, history = train_model(my_model, train_df, epochs, batch_size,\n",
        "                          label_name, validation_split)\n",
        "plot_the_loss_curve(epochs, mse, history[\"val_mean_squared_error\"])\n",
        "\n",
        "test_features = {name:np.array(value) for name, value in test_df.items()}\n",
        "test_label = test_median_house_value_normalized(test_features.pop(label_name)) # isolate the label\n",
        "print(\"\\n Evaluate the linear regression model against the test set:\")\n",
        "my_model.evaluate(x = test_features, y = test_label, batch_size=batch_size, return_dict=True)"
      ]
    },
    {
      "cell_type": "markdown",
      "metadata": {
        "id": "3014ezH3C7jT"
      },
      "source": [
        "## Define a deep neural net model\n",
        "\n",
        "The `get_outputs_dnn` function defines the topography of the deep neural net (DNN), specifying the following:\n",
        "\n",
        "* The number of [layers](https://developers.google.com/machine-learning/glossary/#layer) in the deep neural net.\n",
        "* The number of [nodes](https://developers.google.com/machine-learning/glossary/#node) in each layer.\n",
        "\n",
        "The `get_outputs_dnn` function also defines the [activation function](https://developers.google.com/machine-learning/glossary/#activation_function) of each layer.\n",
        "\n",
        "The first `Dense` layer takes our previously defined `preprocessing_layers` as input."
      ]
    },
    {
      "cell_type": "code",
      "execution_count": 26,
      "metadata": {
        "id": "pedD5GhlDC-y"
      },
      "outputs": [],
      "source": [
        "def get_outputs_dnn():\n",
        "  # Create a Dense layer with 20 nodes.\n",
        "  dense_output = tf.keras.layers.Dense(units=20,\n",
        "                              activation='relu',\n",
        "                              name='hidden_dense_layer_1')(preprocessing_layers)\n",
        "  # Create a Dense layer with 12 nodes.\n",
        "  dense_output = tf.keras.layers.Dense(units=12,\n",
        "                              activation='relu',\n",
        "                              name='hidden_dense_layer_2')(dense_output)\n",
        "  # Create the Dense output layer.\n",
        "  dense_output = tf.keras.layers.Dense(units=1,\n",
        "                              name='dense_output')(dense_output)\n",
        "\n",
        "  # Define an output dictionary we'll send to the model constructor.\n",
        "  outputs = {\n",
        "    'dense_output': dense_output\n",
        "  }\n",
        "\n",
        "  return outputs"
      ]
    },
    {
      "cell_type": "markdown",
      "metadata": {
        "id": "D-IXYVfvM4gD"
      },
      "source": [
        "## Call the functions to build and train a deep neural net\n",
        "\n",
        "Okay, it is time to actually train the deep neural net.  If time permits, experiment with the three hyperparameters to see if you can reduce the loss\n",
        "against the test set.\n"
      ]
    },
    {
      "cell_type": "code",
      "execution_count": 29,
      "metadata": {
        "cellView": "both",
        "id": "nj3v5EKQFY8s"
      },
      "outputs": [
        {
          "name": "stdout",
          "output_type": "stream",
          "text": [
            "Epoch 1/20\n",
            "\u001b[1m14/14\u001b[0m \u001b[32m━━━━━━━━━━━━━━━━━━━━\u001b[0m\u001b[37m\u001b[0m \u001b[1m1s\u001b[0m 25ms/step - loss: 1.0086 - mean_squared_error: 1.0086 - val_loss: 0.9976 - val_mean_squared_error: 0.9976\n",
            "Epoch 2/20\n",
            "\u001b[1m14/14\u001b[0m \u001b[32m━━━━━━━━━━━━━━━━━━━━\u001b[0m\u001b[37m\u001b[0m \u001b[1m0s\u001b[0m 8ms/step - loss: 1.0069 - mean_squared_error: 1.0069 - val_loss: 0.9971 - val_mean_squared_error: 0.9971\n",
            "Epoch 3/20\n",
            "\u001b[1m14/14\u001b[0m \u001b[32m━━━━━━━━━━━━━━━━━━━━\u001b[0m\u001b[37m\u001b[0m \u001b[1m0s\u001b[0m 9ms/step - loss: 1.0055 - mean_squared_error: 1.0055 - val_loss: 0.9992 - val_mean_squared_error: 0.9992\n",
            "Epoch 4/20\n",
            "\u001b[1m14/14\u001b[0m \u001b[32m━━━━━━━━━━━━━━━━━━━━\u001b[0m\u001b[37m\u001b[0m \u001b[1m0s\u001b[0m 8ms/step - loss: 1.0148 - mean_squared_error: 1.0148 - val_loss: 0.9966 - val_mean_squared_error: 0.9966\n",
            "Epoch 5/20\n",
            "\u001b[1m14/14\u001b[0m \u001b[32m━━━━━━━━━━━━━━━━━━━━\u001b[0m\u001b[37m\u001b[0m \u001b[1m0s\u001b[0m 8ms/step - loss: 1.0019 - mean_squared_error: 1.0019 - val_loss: 0.9959 - val_mean_squared_error: 0.9959\n",
            "Epoch 6/20\n",
            "\u001b[1m14/14\u001b[0m \u001b[32m━━━━━━━━━━━━━━━━━━━━\u001b[0m\u001b[37m\u001b[0m \u001b[1m0s\u001b[0m 9ms/step - loss: 0.9966 - mean_squared_error: 0.9966 - val_loss: 0.9953 - val_mean_squared_error: 0.9953\n",
            "Epoch 7/20\n",
            "\u001b[1m14/14\u001b[0m \u001b[32m━━━━━━━━━━━━━━━━━━━━\u001b[0m\u001b[37m\u001b[0m \u001b[1m0s\u001b[0m 8ms/step - loss: 1.0018 - mean_squared_error: 1.0018 - val_loss: 0.9963 - val_mean_squared_error: 0.9963\n",
            "Epoch 8/20\n",
            "\u001b[1m14/14\u001b[0m \u001b[32m━━━━━━━━━━━━━━━━━━━━\u001b[0m\u001b[37m\u001b[0m \u001b[1m0s\u001b[0m 9ms/step - loss: 1.0076 - mean_squared_error: 1.0076 - val_loss: 0.9941 - val_mean_squared_error: 0.9941\n",
            "Epoch 9/20\n",
            "\u001b[1m14/14\u001b[0m \u001b[32m━━━━━━━━━━━━━━━━━━━━\u001b[0m\u001b[37m\u001b[0m \u001b[1m0s\u001b[0m 9ms/step - loss: 0.9952 - mean_squared_error: 0.9952 - val_loss: 0.9935 - val_mean_squared_error: 0.9935\n",
            "Epoch 10/20\n",
            "\u001b[1m14/14\u001b[0m \u001b[32m━━━━━━━━━━━━━━━━━━━━\u001b[0m\u001b[37m\u001b[0m \u001b[1m0s\u001b[0m 9ms/step - loss: 0.9977 - mean_squared_error: 0.9977 - val_loss: 0.9909 - val_mean_squared_error: 0.9909\n",
            "Epoch 11/20\n",
            "\u001b[1m14/14\u001b[0m \u001b[32m━━━━━━━━━━━━━━━━━━━━\u001b[0m\u001b[37m\u001b[0m \u001b[1m0s\u001b[0m 9ms/step - loss: 0.9969 - mean_squared_error: 0.9969 - val_loss: 0.9892 - val_mean_squared_error: 0.9892\n",
            "Epoch 12/20\n",
            "\u001b[1m14/14\u001b[0m \u001b[32m━━━━━━━━━━━━━━━━━━━━\u001b[0m\u001b[37m\u001b[0m \u001b[1m0s\u001b[0m 9ms/step - loss: 0.9981 - mean_squared_error: 0.9981 - val_loss: 0.9901 - val_mean_squared_error: 0.9901\n",
            "Epoch 13/20\n",
            "\u001b[1m14/14\u001b[0m \u001b[32m━━━━━━━━━━━━━━━━━━━━\u001b[0m\u001b[37m\u001b[0m \u001b[1m0s\u001b[0m 9ms/step - loss: 1.0051 - mean_squared_error: 1.0051 - val_loss: 0.9869 - val_mean_squared_error: 0.9869\n",
            "Epoch 14/20\n",
            "\u001b[1m14/14\u001b[0m \u001b[32m━━━━━━━━━━━━━━━━━━━━\u001b[0m\u001b[37m\u001b[0m \u001b[1m0s\u001b[0m 8ms/step - loss: 0.9843 - mean_squared_error: 0.9843 - val_loss: 0.9897 - val_mean_squared_error: 0.9897\n",
            "Epoch 15/20\n",
            "\u001b[1m14/14\u001b[0m \u001b[32m━━━━━━━━━━━━━━━━━━━━\u001b[0m\u001b[37m\u001b[0m \u001b[1m0s\u001b[0m 12ms/step - loss: 0.9915 - mean_squared_error: 0.9915 - val_loss: 0.9911 - val_mean_squared_error: 0.9911\n",
            "Epoch 16/20\n",
            "\u001b[1m14/14\u001b[0m \u001b[32m━━━━━━━━━━━━━━━━━━━━\u001b[0m\u001b[37m\u001b[0m \u001b[1m0s\u001b[0m 8ms/step - loss: 0.9889 - mean_squared_error: 0.9889 - val_loss: 0.9818 - val_mean_squared_error: 0.9818\n",
            "Epoch 17/20\n",
            "\u001b[1m14/14\u001b[0m \u001b[32m━━━━━━━━━━━━━━━━━━━━\u001b[0m\u001b[37m\u001b[0m \u001b[1m0s\u001b[0m 9ms/step - loss: 0.9784 - mean_squared_error: 0.9784 - val_loss: 0.9824 - val_mean_squared_error: 0.9824\n",
            "Epoch 18/20\n",
            "\u001b[1m14/14\u001b[0m \u001b[32m━━━━━━━━━━━━━━━━━━━━\u001b[0m\u001b[37m\u001b[0m \u001b[1m0s\u001b[0m 9ms/step - loss: 0.9805 - mean_squared_error: 0.9805 - val_loss: 0.9799 - val_mean_squared_error: 0.9799\n",
            "Epoch 19/20\n",
            "\u001b[1m14/14\u001b[0m \u001b[32m━━━━━━━━━━━━━━━━━━━━\u001b[0m\u001b[37m\u001b[0m \u001b[1m0s\u001b[0m 10ms/step - loss: 0.9880 - mean_squared_error: 0.9880 - val_loss: 0.9849 - val_mean_squared_error: 0.9849\n",
            "Epoch 20/20\n",
            "\u001b[1m14/14\u001b[0m \u001b[32m━━━━━━━━━━━━━━━━━━━━\u001b[0m\u001b[37m\u001b[0m \u001b[1m0s\u001b[0m 8ms/step - loss: 1.0003 - mean_squared_error: 1.0003 - val_loss: 0.9819 - val_mean_squared_error: 0.9819\n"
          ]
        },
        {
          "data": {
            "image/png": "[encoded data removed]",
            "text/plain": [
              "<Figure size 640x480 with 1 Axes>"
            ]
          },
          "metadata": {},
          "output_type": "display_data"
        },
        {
          "name": "stdout",
          "output_type": "stream",
          "text": [
            "\n",
            " Evaluate the new model against the test set:\n",
            "\u001b[1m3/3\u001b[0m \u001b[32m━━━━━━━━━━━━━━━━━━━━\u001b[0m\u001b[37m\u001b[0m \u001b[1m0s\u001b[0m 5ms/step - loss: 0.9686 - mean_squared_error: 0.9686 \n"
          ]
        },
        {
          "data": {
            "text/plain": [
              "{'loss': 0.9873665571212769, 'mean_squared_error': 0.9873665571212769}"
            ]
          },
          "execution_count": 29,
          "metadata": {},
          "output_type": "execute_result"
        }
      ],
      "source": [
        "# The following variables are the hyperparameters.\n",
        "learning_rate = 0.01\n",
        "epochs = 20\n",
        "batch_size = 1000\n",
        "\n",
        "# Specify the label\n",
        "label_name = \"median_house_value\"\n",
        "\n",
        "# Split the original training set into a reduced training set and a\n",
        "# validation set.\n",
        "validation_split = 0.2\n",
        "\n",
        "dnn_outputs = get_outputs_dnn()\n",
        "\n",
        "# Establish the model's topography.\n",
        "my_model = create_model(\n",
        "    inputs,\n",
        "    dnn_outputs,\n",
        "    learning_rate)\n",
        "\n",
        "# Train the model on the normalized training set. We're passing the entire\n",
        "# normalized training set, but the model will only use the features\n",
        "# defined in our inputs.\n",
        "epochs, mse, history = train_model(my_model, train_df, epochs,\n",
        "                                   batch_size, label_name, validation_split)\n",
        "plot_the_loss_curve(epochs, mse, history[\"val_mean_squared_error\"])\n",
        "\n",
        "# After building a model against the training set, test that model\n",
        "# against the test set.\n",
        "test_features = {name:np.array(value) for name, value in test_df.items()}\n",
        "test_label = test_median_house_value_normalized(np.array(test_features.pop(label_name))) # isolate the label\n",
        "print(\"\\n Evaluate the new model against the test set:\")\n",
        "my_model.evaluate(x = test_features, y = test_label, batch_size=batch_size, return_dict=True)"
      ]
    },
    {
      "cell_type": "markdown",
      "metadata": {
        "id": "wlPXK-SmmjQ2"
      },
      "source": [
        "## Task 1: Compare the two models\n",
        "\n",
        "How did the deep neural net perform against the baseline linear regression model?  \n",
        "假設線性模型和深度神經網路模型都已經收斂，比較每個模型在測試集上的損失。\n",
        "實驗中，深度神經網路模型的損失值總是比線性回歸模型的損失值低，這意味著深度神經網路模型將會比線性回歸模型做出更好的預測。\n"
      ]
    },
    {
      "cell_type": "markdown",
      "metadata": {
        "id": "Y5IKmk7D49_n"
      },
      "source": [
        "## Task 2: Optimize the deep neural network's topography\n",
        "\n",
        "Experiment with the number of layers of the deep neural network and the number of nodes in each layer.  Aim to achieve both of the following goals:\n",
        "\n",
        "*  Lower the loss against the test set.\n",
        "*  Minimize the overall number of nodes in the deep neural net.\n",
        "\n",
        "The two goals may be in conflict.  \n",
        "\n",
        "趨勢：\n",
        "* 兩層網路 的表現優於一層網路，但三層網路的表現並沒有顯著優於兩層網路。換句話說，兩層網路似乎是最好的選擇。\n",
        "* 設置如下的拓撲結構能在相對少的節點數下產生不錯的結果：\n",
        "    * 第一層 10 個節點。\n",
        "    * 第二層 6 個節點。\n",
        "* 當每層的節點數低於上述配置時，測試損失增加。然而，根據具體應用、硬體限制以及較不準確的模型帶來的相對損失，一個更小的網路（例如，第一層6個節點和第二層4個節點）也可能是可以接受的。\n"
      ]
    }
  ],
  "metadata": {
    "colab": {
      "name": "Intro to Neural Nets.ipynb",
      "private_outputs": true,
      "provenance": []
    },
    "kernelspec": {
      "display_name": "Python 3",
      "name": "python3"
    },
    "language_info": {
      "codemirror_mode": {
        "name": "ipython",
        "version": 3
      },
      "file_extension": ".py",
      "mimetype": "text/x-python",
      "name": "python",
      "nbconvert_exporter": "python",
      "pygments_lexer": "ipython3",
      "version": "3.11.0"
    }
  },
  "nbformat": 4,
  "nbformat_minor": 0
}
