{
 "cells": [
  {
   "cell_type": "markdown",
   "metadata": {},
   "source": [
    "### **Using TensorBoard with PyTorch**\n",
    "\n",
    "#### **Before You Start**\n",
    "\n",
    "To run this tutorial, you'll need to install PyTorch, TorchVision, Matplotlib, and TensorBoard.\n",
    "With `conda`:\n",
    "\n",
    "`conda install pytorch torchvision -c pytorch` `conda install matplotlib tensorboard`\n",
    "\n",
    "With `pip`:\n",
    "\n",
    "`pip install torch torchvision matplotlib tensorboard`\n",
    "\n",
    "Once the dependencies are installed, restart this notebook in the Python environment where you installed them.\n"
   ]
  },
  {
   "cell_type": "markdown",
   "metadata": {},
   "source": [
    "#### **Introduction**\n",
    "\n",
    "In this notebook, we'll be training a variant of LeNet-5 against the Fashion-MNIST dataset. Fashion-MNIST is a set of image tiles depicting various garments, with fen class labels indicating the type of garment depicted"
   ]
  },
  {
   "cell_type": "code",
   "execution_count": 1,
   "metadata": {},
   "outputs": [],
   "source": [
    "# PyTorch model and training necessities import torch\n",
    "import torch.nn as nn\n",
    "import torch.nn.functional as F\n",
    "import torch.optim as optim\n",
    "\n",
    "# Image datasets and image manipulation\n",
    "import torch\n",
    "import torchvision\n",
    "import torchvision.transforms as transforms\n",
    "\n",
    "# Image display\n",
    "import matplotlib.pyplot as plt\n",
    "import numpy as np\n",
    "\n",
    "# PyTorch Tensorboard support\n",
    "from torch.utils.tensorboard import SummaryWriter"
   ]
  },
  {
   "cell_type": "markdown",
   "metadata": {},
   "source": [
    "#### **Showing Images in TensorBoard**\n",
    "\n",
    "Let's start by adding sample images from our dataset to TensorBoard:"
   ]
  },
  {
   "cell_type": "code",
   "execution_count": 2,
   "metadata": {},
   "outputs": [],
   "source": [
    "# Gather datasets and prepare them for consumption\n",
    "transform = transforms.Compose(\n",
    "    [transforms.ToTensor(), # 將 PIL 影像或 NumPy 陣列轉換為張量格式，並將像素值縮放至 [0, 1] 範圍內。\n",
    "     transforms.Normalize((0.5, ), (0.5, ))])\n",
    "     # 對資料進行標準化，將像素值調整到 [-1, 1] 範圍內，\n",
    "     # 具體操作是對每個像素減去均值 0.5，然後再除以標準差 0.5。\n",
    "\n",
    "# 資料集的準備\n",
    "# Store separate training and validation splits in ./data\n",
    "training_set = torchvision.datasets.FashionMNIST('./data',\n",
    "        train=True, # 下載訓練資料\n",
    "        download=True, # 若本地無資料，則下載網路資料\n",
    "        transform=transform)\n",
    "validation_set = torchvision.datasets.FashionMNIST('./data',\n",
    "        train=False,\n",
    "        download=True,\n",
    "        transform=transform)\n",
    "training_loader = torch.utils.data.DataLoader(training_set,\n",
    "        batch_size=4, # 每次輸入 4 張圖片\n",
    "        shuffle=True, # 每次迭代前打亂資料，確保模型不會過度擬合\n",
    "        num_workers=2) # 使用 2 個子進程加載資料\n",
    "validation_loader = torch.utils.data.DataLoader(validation_set,\n",
    "        batch_size=4,\n",
    "        shuffle=False,\n",
    "        num_workers=2)\n",
    "\n",
    "# Class labels for FashionMNIST，10種類別標籤\n",
    "classes = ('T-shirt/top', 'Trouser', 'Pullover', 'Dress', 'Coat',\n",
    "        'Sandal', 'Shirt', 'Sneaker', 'Bag', 'Ankle boot')\n"
   ]
  },
  {
   "cell_type": "markdown",
   "metadata": {},
   "source": [
    "`img = img.mean(dim=0)`，將圖片 img 沿著指定的維度進行均值運算。  \n",
    "圖片通常表示為一個三維的張量（Tensor），其維度順序為 (C, H, W)，表示通道數（Channels）、高度（Height）和寬度（Width）。  \n",
    "RGB 彩色圖像，C=3，對應紅、綠、藍三個通道。  \n",
    "`mean(dim=0)`，指的是沿著 C 這個維度，也就是通道維度，對所有通道進行平均。這樣做的結果是將原本多通道的圖像轉換為單通道灰度圖像。  \n",
    "$Gray(h,w)=\\frac{Red(h,w)+Green(h,w)+Blue(h,w)}{3}$"
   ]
  },
  {
   "cell_type": "code",
   "execution_count": 3,
   "metadata": {},
   "outputs": [],
   "source": [
    "# Helper function for inline images display\n",
    "def matplotlib_imshow(img, one_channel=False):\n",
    "    if one_channel:\n",
    "        img = img.mean(dim=0) # 將圖片轉換為單通道。\n",
    "    img = img / 2 + 0.5 # 反歸一化(unnormalize)回原始的值範圍，方便進行顯示。\n",
    "    npimg = img.numpy() # 將張量轉換為 NumPy 陣列，以便於 matplotlib 進行顯示。\n",
    "    if one_channel:\n",
    "        plt.imshow(npimg, cmap='Greys') # 如果是單通道圖片，使用灰度圖顯示 (cmap='Greys')。\n",
    "    else:\n",
    "        plt.imshow(np.transpose(npimg, (1, 2, 0)))"
   ]
  },
  {
   "cell_type": "code",
   "execution_count": 4,
   "metadata": {},
   "outputs": [
    {
     "data": {
      "image/png": "[encoded data removed]",
      "text/plain": [
       "<Figure size 640x480 with 1 Axes>"
      ]
     },
     "metadata": {},
     "output_type": "display_data"
    }
   ],
   "source": [
    "# 從 training_loader 中提取一批次的圖像\n",
    "# Extract a batch of 4 images\n",
    "dataiter = iter(training_loader)\n",
    "images, labels = next(dataiter)\n",
    "\n",
    "# Create a grid from the images and display them\n",
    "img_grid = torchvision.utils.make_grid(images)\n",
    "matplotlib_imshow(img_grid, one_channel=True)"
   ]
  },
  {
   "cell_type": "markdown",
   "metadata": {},
   "source": [
    "Above, we used TorchVision and Matplotlib to create a visual grid of a minibatch of our input data. Below, we use the `add_image()` call on `SummaryWriter` to log the image for consumption by TensorBoard, and we also call `flush()` to make sure it's written to disk right away."
   ]
  },
  {
   "cell_type": "markdown",
   "metadata": {},
   "source": [
    "* `SummaryWriter` 是 PyTorch 中用來與 TensorBoard 進行交互的類別。  \n",
    "* `SummaryWriter('runs/fashion_mnist_experiment_1')` 創建了一個 `SummaryWriter` 實例，並將日誌數據寫入到 `runs/fashion_mnist_experiment_1` 目錄下。這個目錄用於存放 TensorBoard 的日誌文件，方便之後可視化模型的訓練過程。  \n",
    "* 默認情況下，`log_dir` 參數的值是 `runs`，但這裡我們指定了路徑 `fashion_mnist_experiment_1`。  \n"
   ]
  },
  {
   "cell_type": "markdown",
   "metadata": {},
   "source": [
    "* `add_image` 方法將一張圖像寫入到 TensorBoard 中。  \n",
    "* `four_fashion_mnist_images` 是這次記錄的名稱標籤，你可以用它來標識這次寫入的圖像。  \n",
    "* `img_grid` 是先前生成的包含 4 張 Fashion MNIST 圖像的網格。  "
   ]
  },
  {
   "cell_type": "code",
   "execution_count": 5,
   "metadata": {},
   "outputs": [],
   "source": [
    "# Default log_dir argument is \"run\" - but it's good to be specific\n",
    "# torch.utils.tensorboard.SummaryWriter is imported above\n",
    "writer = SummaryWriter('runs/fashion_mnist_experiment_1')\n",
    "\n",
    "# Write the image data to TensorBoard log dir\n",
    "writer.add_image('four_fashion_mnist_images', img_grid)\n",
    "writer.flush() # 強制將所有緩存的內容寫入到磁盤，確保數據不會因緩存而丟失。\n",
    "\n",
    "# To view, start TensorBoard on the command line with:\n",
    "# tensorboard --logdir=runs\n",
    "# ...and open a browser tab to http://localhost:6006/"
   ]
  },
  {
   "cell_type": "markdown",
   "metadata": {},
   "source": [
    "If you start TensorBoard at the command line and open it in a new browser tab (usually at localhost:6006), you should see the image grid under the IMAGES tab."
   ]
  },
  {
   "cell_type": "markdown",
   "metadata": {},
   "source": [
    "### **Graphing Scalars to Visualize Training**\n",
    "\n",
    "TensorBoard is useful for tracking the progress and efficacy of your training. Below, we'll run a training loop, track some metrics, and save the data for TensorBoard's consumption.\n",
    "\n",
    "Let's define a model to categorize our image tiles, and an optimizer and loss function for training:"
   ]
  },
  {
   "cell_type": "code",
   "execution_count": 6,
   "metadata": {},
   "outputs": [],
   "source": [
    "class Net(nn.Module):\n",
    "    def __init__(self):\n",
    "        super(Net, self).__init__()\n",
    "        self.conv1 = nn.Conv2d(1, 6, 5)\n",
    "        self.pool = nn.MaxPool2d(2, 2)\n",
    "        self.conv2 = nn.Conv2d(6, 16, 5)\n",
    "        self.fc1 = nn.Linear(16 * 4 * 4, 120)\n",
    "        self.fc2 = nn.Linear(120, 84)\n",
    "        self.fc3 = nn.Linear(84, 10)\n",
    "    def forward(self, x):\n",
    "        x = self.pool(F.relu(self.conv1(x)))\n",
    "        x = self.pool(F.relu(self.conv2(x)))\n",
    "        x = x.view(-1, 16 * 4 * 4)\n",
    "        x = F.relu(self.fc1(x))\n",
    "        x = F.relu(self.fc2(x))\n",
    "        x = self.fc3(x)\n",
    "        return x\n",
    "\n",
    "net = Net()\n",
    "criterion = nn.CrossEntropyLoss() # 使用交叉熵損失函數，進行多分類問題的分類。\n",
    "optimizer = optim.SGD(net.parameters(), lr=0.001, momentum=0.9) # 使用隨機梯度下降（SGD）作為優化器"
   ]
  },
  {
   "cell_type": "markdown",
   "metadata": {},
   "source": [
    "`view` 是 PyTorch 中的函數，它用來改變張量的形狀而不改變其數據本身。  \n",
    "* -1: 這是自動推導的維度。PyTorch 會根據張量的總元素數量和其他給定的維度，計算出 -1 應該是多少，以保證形狀的正確性。在這裡，-1 將會被計算為 B，即批次大小。\n",
    "* 16 * 4 * 4: 這裡指定了每個樣本的扁平化特徵向量的長度，16 是通道數，4 和 4 是特徵圖的高度和寬度。乘積 16 * 4 * 4 表示每個樣本在展平成一維向量後的總長度。"
   ]
  },
  {
   "cell_type": "markdown",
   "metadata": {},
   "source": [
    "Now let's train a single epoch, and evaluate the training vs. validation set losses every 1000 batches:"
   ]
  },
  {
   "cell_type": "code",
   "execution_count": 7,
   "metadata": {},
   "outputs": [
    {
     "name": "stdout",
     "output_type": "stream",
     "text": [
      "2500\n",
      "Batch(1000\n",
      "Batch(2000\n",
      "Batch(3000\n",
      "Batch(4000\n",
      "Batch(5000\n",
      "Batch(6000\n",
      "Batch(7000\n",
      "Batch(8000\n",
      "Batch(9000\n",
      "Batch(10000\n",
      "Batch(11000\n",
      "Batch(12000\n",
      "Batch(13000\n",
      "Batch(14000\n",
      "Batch(15000\n",
      "Finished Training\n"
     ]
    }
   ],
   "source": [
    "print(len(validation_loader)) # 檢查驗證資料集被分成了多少個 mini-batches。\n",
    "# 這個迴圈表示模型將會在整個訓練資料集上訓練 1 次（即一個 epoch）。\n",
    "for epoch in range(1): # loop over the dataset multiple times\n",
    "    running_loss = 0.0\n",
    "\n",
    "    # 對訓練資料集的每一個 mini-batch 進行操作\n",
    "    for i, data in enumerate(training_loader, 0):\n",
    "        # basic training loop\n",
    "        inputs, labels = data\n",
    "        optimizer.zero_grad() # 清除累積的梯度（在 PyTorch 中，梯度會累積，這一步確保每次更新都是針對當前 mini-batch 的）。\n",
    "        outputs = net(inputs)\n",
    "        loss = criterion(outputs, labels) # 使用損失函數 criterion 計算預測輸出與真實標籤之間的損失。\n",
    "        loss.backward() # 使用反向傳播計算梯度。\n",
    "        optimizer.step() # 更新模型參數。\n",
    "\n",
    "        running_loss += loss.item()\n",
    "        if i % 1000 == 999: # Every 1000 mini-batches...\n",
    "            print('Batch({}'.format(i + 1))\n",
    "            # check against the validation set\n",
    "            running_vloss = 0.0\n",
    "\n",
    "            net.train(False) # Don't need to track gradients for validation\n",
    "            for j, vdata in enumerate(validation_loader, 0):\n",
    "                vinputs, vlabels = vdata\n",
    "                voutputs = net(vinputs)\n",
    "                vloss = criterion(voutputs, vlabels)\n",
    "                running_vloss += vloss.item()\n",
    "            net.train(True) # Turn gradient tracking back on for training\n",
    "\n",
    "            avg_loss = running_loss / 1000\n",
    "            avg_vloss = running_vloss / len(validation_loader)\n",
    "\n",
    "            # Log the running loss avgeraged per batch\n",
    "            writer.add_scalars('Training vs. Validation Loss',\n",
    "                    {'Training' : avg_loss, 'Validation' : avg_vloss},\n",
    "                    epoch * len(training_loader) + i)\n",
    "            running_loss = 0.0\n",
    "\n",
    "print('Finished Training')\n",
    "\n",
    "writer.flush()"
   ]
  },
  {
   "cell_type": "markdown",
   "metadata": {},
   "source": [
    "Switch to your open TensorBoard and have a look at the SCALARS tab."
   ]
  },
  {
   "cell_type": "markdown",
   "metadata": {},
   "source": [
    "#### **Visualizing Your Model**  \n",
    "TensorBoard can also be used to examine the data flow within your model. To do this, call the `add_graph()` method with a model and sample input. When \n",
    "you open"
   ]
  },
  {
   "cell_type": "code",
   "execution_count": 8,
   "metadata": {},
   "outputs": [],
   "source": [
    "# Again, grab a single mini-batch of images\n",
    "dataiter = iter(training_loader)\n",
    "images, labels = next(dataiter)\n",
    "\n",
    "# add_graph() will trace the sample input through your model,\n",
    "# and render it as a graph\n",
    "writer.add_graph(net, images)\n",
    "writer.flush()"
   ]
  },
  {
   "cell_type": "markdown",
   "metadata": {},
   "source": [
    "When you switch over to TensorBoard, you should see a GRAPHS tab. Double-click the 'NET\" node to see the layers and data flow within your model."
   ]
  },
  {
   "cell_type": "markdown",
   "metadata": {},
   "source": [
    "#### **Visualizing Your Dataset with Embeddings**  \n",
    "The 28-by-28 image tiles we're using can be modeled as 784-dimensional vectors (28 * 28 = 784). It can be instructive to project this to a lower-dimensional\n",
    "representation. The `add_embedding()` method will project a set of data onto the three dimensions with highest variance, and display them as an interactive 3D chart. The `add_embedding()` method does this automatically by projecting to the three dimensions with highest variance.\n",
    "Below, we'll take a sample of our data, and generate such an embedding:"
   ]
  },
  {
   "cell_type": "code",
   "execution_count": 9,
   "metadata": {},
   "outputs": [
    {
     "name": "stdout",
     "output_type": "stream",
     "text": [
      "warning: Embedding dir exists, did you set global_step for add_embedding()?\n"
     ]
    }
   ],
   "source": [
    "# Select a random subset of images and corresponding labels\n",
    "def select_n_random(data, labels, n=100):\n",
    "    assert len(data) == len(labels)\n",
    "\n",
    "    perm = torch.randperm(len(data))\n",
    "    return data[perm][:n], labels[perm][:n]\n",
    "\n",
    "# Extract a random subset of data\n",
    "images, labels = select_n_random(training_set.data, training_set.targets)\n",
    "\n",
    "# Get the class labels for the random subset\n",
    "class_labels = [classes[label] for label in labels]\n",
    "\n",
    "#log embeddings\n",
    "features = images.view(-1, 28 * 28)\n",
    "writer.add_embedding(features,\n",
    "        metadata=class_labels,\n",
    "        label_img=images.unsqueeze(1))\n",
    "\n",
    "writer.flush() # Flush the writer to ensure all data is written to disk\n",
    "\n"
   ]
  },
  {
   "cell_type": "markdown",
   "metadata": {},
   "source": [
    "Now if you switch to TensorBoard and select the PROJECTOR tab, you should see a 3D representation of the projection. You can rotate and zoom the model.  \n",
    "Examine it at large and small scales, and see whether you can spot patterns in the projected data and the clustering of labels.\n",
    "\n",
    "**Note:** For better visibility, it's recommended to:  \n",
    "* Select \"label\" from the \"Color by\" drop-down on the left\n",
    "* Toggle the Night Mode icon along the top to place the light-colored images on a dark background."
   ]
  },
  {
   "cell_type": "markdown",
   "metadata": {},
   "source": [
    "#### **Other Resources**\n",
    "For more information, have a look at:\n",
    "* PyTorch documentation on `torch.utils.tensorboard.SummaryWriter` on PyTorch.org"
   ]
  },
  {
   "cell_type": "code",
   "execution_count": null,
   "metadata": {},
   "outputs": [],
   "source": []
  },
  {
   "cell_type": "markdown",
   "metadata": {},
   "source": []
  }
 ],
 "metadata": {
  "kernelspec": {
   "display_name": "Python 3",
   "language": "python",
   "name": "python3"
  },
  "language_info": {
   "codemirror_mode": {
    "name": "ipython",
    "version": 3
   },
   "file_extension": ".py",
   "mimetype": "text/x-python",
   "name": "python",
   "nbconvert_exporter": "python",
   "pygments_lexer": "ipython3",
   "version": "3.11.0"
  }
 },
 "nbformat": 4,
 "nbformat_minor": 2
}
