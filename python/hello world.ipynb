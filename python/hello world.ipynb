{
 "cells": [
  {
   "cell_type": "markdown",
   "id": "1d5bc2d2-59f9-4961-8524-4de7e99d698e",
   "metadata": {},
   "source": [
    "## helloworld"
   ]
  },
  {
   "cell_type": "code",
   "execution_count": 1,
   "id": "4a86b52f-090f-40d4-a86b-0a992ac137a5",
   "metadata": {},
   "outputs": [
    {
     "name": "stdout",
     "output_type": "stream",
     "text": [
      "helloworld\n"
     ]
    }
   ],
   "source": [
    "print(\"helloworld\")"
   ]
  },
  {
   "cell_type": "code",
   "execution_count": 2,
   "id": "8b1c7e04-6770-4242-b9ec-5dc7b593ea90",
   "metadata": {},
   "outputs": [
    {
     "name": "stdout",
     "output_type": "stream",
     "text": [
      "3.11.6 | packaged by conda-forge | (main, Oct  3 2023, 10:40:35) [GCC 12.3.0]\n"
     ]
    }
   ],
   "source": [
    "import sys\n",
    "print(sys.version)"
   ]
  },
  {
   "cell_type": "markdown",
   "id": "f72818ad-8123-4c59-8777-ab66beff3224",
   "metadata": {},
   "source": [
    "## Datatype"
   ]
  },
  {
   "cell_type": "code",
   "execution_count": 4,
   "id": "f349aa68-edfb-4412-9142-8eeedac9bfe5",
   "metadata": {},
   "outputs": [
    {
     "name": "stdout",
     "output_type": "stream",
     "text": [
      "a: 2\n",
      "a(float): 2.0\n",
      "int(string): 15\n",
      "3\n"
     ]
    }
   ],
   "source": [
    "# float, int\n",
    "a = 2\n",
    "print(\"a:\", a)\n",
    "\n",
    "print(\"a(float):\", float(a))\n",
    "\n",
    "print(\"int(string):\",int('15'))\n",
    "\n",
    "print(int(3.99))\n",
    "\n",
    "# error\n",
    "# print(\"a(int):\", int('a')"
   ]
  },
  {
   "cell_type": "code",
   "execution_count": 5,
   "id": "a7e36fec-b097-4d9a-9c63-a681d119be6f",
   "metadata": {},
   "outputs": [
    {
     "name": "stdout",
     "output_type": "stream",
     "text": [
      "stringA: a\n",
      "stringA(int): 15\n"
     ]
    }
   ],
   "source": [
    "# str\n",
    "stringA = 'a'\n",
    "print(\"stringA:\",stringA)\n",
    "stringA = '15'\n",
    "print(\"stringA(int):\",int(stringA))"
   ]
  },
  {
   "cell_type": "code",
   "execution_count": 6,
   "id": "ce9c12fb-1b6a-4837-920b-4fd31ba0e725",
   "metadata": {},
   "outputs": [
    {
     "name": "stdout",
     "output_type": "stream",
     "text": [
      "True\n",
      "False\n",
      "\n"
     ]
    },
    {
     "data": {
      "text/plain": [
       "bool"
      ]
     },
     "execution_count": 6,
     "metadata": {},
     "output_type": "execute_result"
    }
   ],
   "source": [
    "# boolean\n",
    "BOOL = True\n",
    "print(BOOL)\n",
    "\n",
    "BOOL = False\n",
    "print(BOOL)\n",
    "\n",
    "print()\n",
    "type(BOOL)"
   ]
  },
  {
   "cell_type": "markdown",
   "id": "7c565620-29a8-4a6c-b8f3-1169d3f5aa5a",
   "metadata": {},
   "source": [
    "### Expressions and Variables\r\n",
    "* Python 遵循運算順序 (BODMASS) 來執行多個表達式的運算。\r\n",
    "* 賦值運算子“=”將值賦給變數。\r\n",
    "* “：”表示程式碼中變數的值。"
   ]
  },
  {
   "cell_type": "code",
   "execution_count": 7,
   "id": "c77a84f2-d693-4a17-81f3-c4d76fb94e49",
   "metadata": {},
   "outputs": [
    {
     "name": "stdout",
     "output_type": "stream",
     "text": [
      "25/6: 4.166666666666667\n",
      "25//6: 4\n",
      "11//2: 3\n",
      "a: 25 b: 6 c: 4.166666666666667\n",
      "a: 4.166666666666667\n",
      "a: 4.2\n"
     ]
    }
   ],
   "source": [
    "print(\"25/6:\",25/6)\n",
    "\n",
    "# get rounded result\n",
    "# 無條件省去小數點\n",
    "print(\"25//6:\",25//6)\n",
    "print(\"11//2:\",11//3)\n",
    "\n",
    "a = 25\n",
    "b = 6\n",
    "c = a/b\n",
    "\n",
    "print(\"a:\", a, \"b:\", b, \"c:\", c)\n",
    "a = c\n",
    "print(\"a:\",a)\n",
    "print(\"a:\",round(a, 1))\n",
    "\n",
    "# print(\"a(double):\",double(a))"
   ]
  },
  {
   "cell_type": "code",
   "execution_count": 8,
   "id": "c7e2522f-fae6-4c0d-a791-803c2bb5c70a",
   "metadata": {},
   "outputs": [
    {
     "name": "stdout",
     "output_type": "stream",
     "text": [
      "10\n",
      "10\n"
     ]
    }
   ],
   "source": [
    "# assignment operator\n",
    "my_var = 10\n",
    "\n",
    "print(my_var)\n",
    "\n",
    "# use a colon to denote the value of the variable\n",
    "my_var:10\n",
    "my_var:1\n",
    "print(my_var)"
   ]
  },
  {
   "cell_type": "markdown",
   "id": "57e9d85f-cf4d-4df1-93e4-3f693f17961e",
   "metadata": {},
   "source": [
    "## String Operations\r\n",
    "\r\n",
    "* A string is a sequence of characters contained two quotes\r\n",
    "```\r\n",
    "\"Lin yuchen\"\r\n",
    "'Lin yuchen'\r\n",
    "single quotes is also legitimate in ptyhon \r\n",
    "```\r\n",
    "\r\n",
    "* A string can be spaces, digits, special characters.\r\n",
    "```\r\n",
    "\"1    56  4 \"\r\n",
    "'@#!%^&*()'\r\n",
    "```\r\n",
    "\r\n",
    "### index\r\n",
    "* Each element in the sequence can be accessed using an index represented by the array of numbers.\r\n",
    "\r\n",
    "    \"Lin yuchen\"\r\n",
    "#### index postive:\r\n",
    "      L,  i,  n,   ,  y,  u,  c,  h,  e,  n\r\n",
    "      0,  1,  2,  3,  4,  5,  6,  7,  8,  9\r\n",
    "#### index negative:\r\n",
    "      L,  i,  n,   ,  y,  u,  c,  h,  e,  n\r\n",
    "    -10, -9, -8, -7, -6, -5, -4, -3, -2, -1\r\n",
    "\r\n",
    "\r\n",
    "### Slicing & Stride\r\n",
    "\r\n",
    "* It is helpful to think of string as a list or tuple.\r\n",
    "\r\n",
    "#### sequence[Start : End : Step]\r\n",
    "\r\n",
    "Parameters:\r\n",
    "\r\n",
    "* Start: It is the starting point of the slice or substring.\r\n",
    "* End: It is the ending point of the slice or substring but it does not include the last index.\r\n",
    "* Step: It is number of steps it takes.\r\n",
    "\r\n",
    "\r\n"
   ]
  },
  {
   "cell_type": "code",
   "execution_count": 9,
   "id": "2d609f4f-9bb7-4e33-b15f-7006853e0f64",
   "metadata": {},
   "outputs": [
    {
     "name": "stdout",
     "output_type": "stream",
     "text": [
      "Lin yuchen\n",
      "Name[0] L\n",
      "Name[-10] L\n",
      "Name[-1] n\n"
     ]
    }
   ],
   "source": [
    "name = 'Lin yuchen'\n",
    "print(name)\n",
    "\n",
    "print('Name[0]', name[0])\n",
    "\n",
    "print('Name[-10]', name[-10])\n",
    "print('Name[-1]', name[-1])"
   ]
  },
  {
   "cell_type": "code",
   "execution_count": 10,
   "id": "3756618b-9af0-4e68-a8e2-0eb862055179",
   "metadata": {},
   "outputs": [
    {
     "name": "stdout",
     "output_type": "stream",
     "text": [
      "1. yuchen\n",
      "2. yuche\n",
      "3. yuchen\n"
     ]
    }
   ],
   "source": [
    "# Slicing\n",
    "\n",
    "first_name = name[4:10]\n",
    "print('1.',first_name)\n",
    "\n",
    "first_name = name[-6:-1]\n",
    "\n",
    "print('2.',first_name)\n",
    "# cannot: first_name = name[-6:0]\n",
    "first_name = name[-6:]\n",
    "print('3.',first_name)"
   ]
  },
  {
   "cell_type": "code",
   "execution_count": 11,
   "id": "9976ff0e-8507-4525-bb4f-bc291a611568",
   "metadata": {},
   "outputs": [
    {
     "name": "stdout",
     "output_type": "stream",
     "text": [
      "1. Lin yuchen\n",
      "2. Lnyce\n",
      "3. yce\n"
     ]
    }
   ],
   "source": [
    "# Stride\n",
    "\n",
    "step_name = name[::1]\n",
    "print(\"1.\", step_name)\n",
    "\n",
    "step_name = name[::2]\n",
    "print(\"2.\", step_name)\n",
    "\n",
    "step_name = name[4::2]\n",
    "print(\"3.\", step_name)"
   ]
  },
  {
   "cell_type": "markdown",
   "id": "b35f72d1-5b66-49f1-a944-521840cad38b",
   "metadata": {},
   "source": [
    "#### len(\"string\")\r\n",
    "```\r\n",
    "We can use the len command to obtain the length of the string.\r\n",
    "len(\"string\") = 6\r\n",
    "```"
   ]
  },
  {
   "cell_type": "code",
   "execution_count": 12,
   "id": "25456cb5-9ca1-464a-83e2-2aec766f331f",
   "metadata": {},
   "outputs": [
    {
     "data": {
      "text/plain": [
       "10"
      ]
     },
     "execution_count": 12,
     "metadata": {},
     "output_type": "execute_result"
    }
   ],
   "source": [
    "len(name)"
   ]
  },
  {
   "cell_type": "markdown",
   "id": "2de543e3-e178-4be3-8228-32083d249ad8",
   "metadata": {},
   "source": [
    "#### stringA+stringB\n",
    "use the addition symbols, to concatenate or combine strings. "
   ]
  },
  {
   "cell_type": "code",
   "execution_count": 13,
   "id": "fd581c25-ba6b-4de0-85b5-856890e89722",
   "metadata": {},
   "outputs": [
    {
     "name": "stdout",
     "output_type": "stream",
     "text": [
      "Hello world\n",
      "Hello world\n"
     ]
    }
   ],
   "source": [
    "stringA = \"Hello\"\n",
    "stringB = \" world\"\n",
    "print(stringA+stringB)\n",
    "\n",
    "stringC = stringA+stringB\n",
    "print(stringC)\n"
   ]
  },
  {
   "cell_type": "markdown",
   "id": "d419f878-783e-4afe-a3de-d1209e0d15fa",
   "metadata": {},
   "source": [
    "#### repeat string\r\n",
    "We simply multiply the string by the number of times we would like to replicate it."
   ]
  },
  {
   "cell_type": "code",
   "execution_count": 14,
   "id": "c67ce6da-68cc-46ce-ad0e-59efad383ace",
   "metadata": {},
   "outputs": [
    {
     "name": "stdout",
     "output_type": "stream",
     "text": [
      "HelloHelloHello\n"
     ]
    }
   ],
   "source": [
    "stringC = stringA * 3\n",
    "print(stringC)"
   ]
  },
  {
   "cell_type": "markdown",
   "id": "c86c4d33-ddfb-41ae-b766-12f4a3943782",
   "metadata": {},
   "source": [
    "#### Strings: Immutable, 不可變的\r\n",
    "* cannot change the value of the string\r\n",
    "* 無法使用name[4] = 'K'去變更name變數索引[4]位置內的值\r\n",
    "\r\n",
    "#### Strings: escape sequences\r\n",
    "* \\ are meant to processd escape sequences\r\n",
    "* ex:\r\n",
    "\r\n",
    "\r\n",
    "1. Get a new line.  \r\n",
    "use \\n\r\n",
    "\r\n",
    "2. The output is given by a tab.  \r\n",
    "use \\t\r\n",
    "\r\n",
    "3. Place a backslash in your string, use a double backslash.  \r\n",
    "use \\\\ or place an \"r\" in front of the string. \r\n"
   ]
  },
  {
   "cell_type": "code",
   "execution_count": 15,
   "id": "c512a163-deab-4e5a-8ea7-19f36ab582e1",
   "metadata": {},
   "outputs": [
    {
     "name": "stdout",
     "output_type": "stream",
     "text": [
      "Lin yuchen \n",
      "is study at CYCU.\n",
      "Lin yuchen \tis study at CYCU.\n",
      "Lin yuchen \\is study at CYCU.\n",
      "Lin yuchen \\is study at CYCU.\n"
     ]
    }
   ],
   "source": [
    "# error, string is immutable\n",
    "# name[4] = 'K'\n",
    "# print(name)\n",
    "\n",
    "print(\"Lin yuchen \\nis study at CYCU.\")\n",
    "\n",
    "print(\"Lin yuchen \\tis study at CYCU.\")\n",
    "\n",
    "print(\"Lin yuchen \\\\is study at CYCU.\")\n",
    "\n",
    "print(r\"Lin yuchen \\is study at CYCU.\")"
   ]
  },
  {
   "cell_type": "markdown",
   "id": "0bf19908-960d-48ab-9073-3558605c01a7",
   "metadata": {},
   "source": [
    "### String Method\r\n",
    "\r\n",
    "#### upper()\r\n",
    "    UPPER_name = name.upper()\r\n",
    "\r\n",
    "#### lower()\r\n",
    "    LOWER_name = name.lower()\r\n",
    "\r\n",
    "#### replace()\r\n",
    "    NEW_name = name.replace('Lin', 'Chen')\r\n",
    "* The result is a new string with a segment changed.\r\n",
    "\r\n",
    "#### find()\r\n",
    "    name:Lin yuchen\r\n",
    "    name.find('yu'): 4\r\n",
    "    name.find('YU'): -1\r\n",
    "    \r\n",
    "* The argument is the substring you would like to find.\r\n",
    "* The output is the first index of the sequence.\r\n"
   ]
  },
  {
   "cell_type": "code",
   "execution_count": 16,
   "id": "093e178c-8aab-45af-8324-04e8ba7151f0",
   "metadata": {},
   "outputs": [
    {
     "name": "stdout",
     "output_type": "stream",
     "text": [
      "LIN YUCHEN\n",
      "lin yuchen\n",
      "Chen yuchen\n"
     ]
    },
    {
     "data": {
      "text/plain": [
       "-1"
      ]
     },
     "execution_count": 16,
     "metadata": {},
     "output_type": "execute_result"
    }
   ],
   "source": [
    "UPPER_name = name.upper()\n",
    "print(UPPER_name)\n",
    "\n",
    "LOWER_name = name.lower()\n",
    "print(LOWER_name)\n",
    "\n",
    "NEW_name = name.replace('Lin', 'Chen')\n",
    "print(NEW_name)\n",
    "\n",
    "name.find('yu')\n",
    "name.find('Dandelion')"
   ]
  },
  {
   "cell_type": "markdown",
   "id": "9aec9bdb-ecf6-4233-9249-b210e9241606",
   "metadata": {},
   "source": [
    "### String interpolation (f-strings)"
   ]
  },
  {
   "cell_type": "code",
   "execution_count": 17,
   "id": "793e38eb-59f2-4a84-9e47-e78a64386a34",
   "metadata": {},
   "outputs": [
    {
     "name": "stdout",
     "output_type": "stream",
     "text": [
      "My name is {name} and I am {age} years old.\n",
      "My name is John and I am 30 years old.\n"
     ]
    }
   ],
   "source": [
    "name = \"John\"\n",
    "age = 30\n",
    "print(\"My name is {name} and I am {age} years old.\")\n",
    "print(f\"My name is {name} and I am {age} years old.\")\n"
   ]
  },
  {
   "cell_type": "markdown",
   "id": "1db7e9d1-a9c1-46ef-a0ce-81267904ed7e",
   "metadata": {},
   "source": [
    "### str.format()"
   ]
  },
  {
   "cell_type": "code",
   "execution_count": 18,
   "id": "05477246-6b4e-4594-96bf-f9b6ddf9f473",
   "metadata": {},
   "outputs": [
    {
     "name": "stdout",
     "output_type": "stream",
     "text": [
      "My name is John and I am 50 years old.\n"
     ]
    }
   ],
   "source": [
    "name = \"John\"\n",
    "age = 50\n",
    "print(\"My name is {} and I am {} years old.\".format(name, age))"
   ]
  },
  {
   "cell_type": "markdown",
   "id": "d36a6c80-b013-40bc-8590-ccba8025c1c0",
   "metadata": {},
   "source": [
    "### % Operator"
   ]
  },
  {
   "cell_type": "code",
   "execution_count": 19,
   "id": "aae997b4-b7a3-43fe-aba6-fc434ac65cf9",
   "metadata": {},
   "outputs": [
    {
     "name": "stdout",
     "output_type": "stream",
     "text": [
      "My name is Johnathan and I am 30 years old.\n"
     ]
    }
   ],
   "source": [
    "name = \"Johnathan\"\n",
    "age = 30\n",
    "print(\"My name is %s and I am %d years old.\" % (name, age))"
   ]
  },
  {
   "cell_type": "markdown",
   "id": "2c2f09b9-b04b-4376-8828-f35d3c13be5b",
   "metadata": {},
   "source": [
    "### Additional capabilities"
   ]
  },
  {
   "cell_type": "code",
   "execution_count": 20,
   "id": "a4fe2928-5f09-4f4a-a57f-acdcf6658485",
   "metadata": {},
   "outputs": [
    {
     "name": "stdout",
     "output_type": "stream",
     "text": [
      "The sum of x and y is 30.\n"
     ]
    }
   ],
   "source": [
    "x = 10\n",
    "y = 20\n",
    "print(f\"The sum of x and y is {x+y}.\")"
   ]
  },
  {
   "cell_type": "markdown",
   "id": "17a6bb16-1d80-42d2-ae19-ab7d06ffbbd4",
   "metadata": {},
   "source": [
    "### Raw String (r’’)"
   ]
  },
  {
   "cell_type": "code",
   "execution_count": 21,
   "id": "968c71a3-7b98-48c0-b0eb-64f5996eeb85",
   "metadata": {},
   "outputs": [
    {
     "name": "stdout",
     "output_type": "stream",
     "text": [
      "1.Regular String: C:\n",
      "ew_folder\f",
      "ile.txt\n",
      "\n",
      "2.Regular String: C:\n",
      "ew_folder\f",
      "ile.txt\n",
      "\n",
      "3.Raw String: C:\\new_folder\\file.txt\n",
      "\n"
     ]
    }
   ],
   "source": [
    "regular_string = \"C:\\new_folder\\file.txt\"\n",
    "print(\"1.Regular String:\", regular_string)\n",
    "print()\n",
    "\n",
    "print(r\"2.Regular String:\", regular_string)\n",
    "print()\n",
    "\n",
    "raw_string = r\"C:\\new_folder\\file.txt\"\n",
    "print(\"3.Raw String:\", raw_string)\n",
    "print()"
   ]
  },
  {
   "cell_type": "markdown",
   "id": "683a7b59-f364-47be-b5f1-ecef4f6758c6",
   "metadata": {},
   "source": [
    "| Term | Definition |\r\n",
    "| :-- | :-- |\r\n",
    "| AI | AI (artificial intelligence) is the ability of a digital computer or computer-controlled robot to perform tasks commonly associated with intelligent beings. |\r\n",
    "| Application development | Application development, or app development, is the process of planning, designing, creating, testing, and deploying a software application to perform various business operations. |\r\n",
    "| Arithmetic Operations | Arithmetic operations are the basic calculations we make in everyday life like addition, subtraction, multiplication and division. It is also called as algebraic operations or mathematical operations. |\r\n",
    "| Array of numbers | Set of numbers or objects that follow a pattern presented as an arrangement of rows and columns to explain multiplication. |\r\n",
    "| Assignment operator in Python | Assignment operator is a type of Binary operator that helps in modifying the variable to its left with the use of its value to the right. The symbol used for assignment operator is \"=\". |\r\n",
    "| Asterisk | Symbol \"* \" used to perform various operations in Python. |\r\n",
    "| Backslash\t | \tA backslash is an escape character used in Python strings to indicate that the character immediately following it should be treated in a special way, such as being treated as escaped character or raw string. |\r\n",
    "| Boolean | Denoting a system of algebraic notation used to represent logical propositions by means of the binary digits 0 (false) and 1 (true). |\r\n",
    "| Colon | A colon is used to represent an indented block. It is also used to fetch data and index ranges or arrays. 冒號用於表示縮排區塊。它也用於獲取資料和索引範圍或數組。 |\r\n",
    "| Concatenate | Link (things) together in a chain or series. |\r\n",
    "| Data engineering | Data engineers are responsible for turning raw data into information that an organization can understand and use. Their work involves blending, testing, and optimizing data from numerous sources. |\r\n",
    "| Data science | Data Science is an interdisciplinary field that focuses on extracting knowledge from data sets which are typically huge in amount. The field encompasses analysis, preparing data for analysis, and presenting findings to inform high-level decisions in an organization. |\r\n",
    "| Data type | Data type refers to the type of value a variable has and what type of mathematical, relational or logical operations can be applied without causing an error. |\r\n",
    "| Double quote | Symbol “ “ used to represent strings in Python. |\r\n",
    "| Escape sequence | An escape sequence is two or more characters that often begin with an escape character that tell the computer to perform a function or command. |\r\n",
    "| Expression | An expression is a combination of operators and operands that is interpreted to produce some other value. |\r\n",
    "| Float | Python float () function is used to return a floating-point number from a number or a string representation of a numeric value. |\r\n",
    "| Forward slash | Symbol “/“ used to perform various operation sin Python |\r\n",
    "| Foundational | Denoting an underlying basis or principle; fundamental. |\r\n",
    "| Immutable | Immutable Objects are of in-built datatypes like int, float, bool, string, Unicode, and tuple. In simple words, an immutable object can’t be changed after it is created. |\r\n",
    "| Integer | An integer is the number zero (0), a positive natural number (1, 2, 3, and so on) or a negative integer with a minus sign (−1, −2, −3, and so on.) |\r\n",
    "| Manipulate | \tIs the process of modifying a string or creating a new string by making changes to existing strings. |\r\n",
    "| Mathematical conventions | A mathematical convention is a fact, name, notation, or usage which is generally agreed upon by mathematicians. |\r\n",
    "| Mathematical expressions | Expressions in math are mathematical statements that have a minimum of two terms containing numbers or variables, or both, connected by an operator in between. |\r\n",
    "| Mathematical operations | The mathematical “operation” refers to calculating a value using operands and a math operator. |\r\n",
    "| Negative indexing | Allows you to access elements of a sequence (such as a list, a string, or a tuple) from the end, using negative numbers as indexes. |\r\n",
    "| Operands | The quantity on which an operation is to be done. |\r\n",
    "| Operators in Python | Operators are used to perform operations on variables and values. |\r\n",
    "| Parentheses | Parentheses is used to call an object. |\r\n",
    "| Replicate | To make an exact copy of. |\r\n",
    "| Sequence | A sequence is formally defined as a function whose domain is an interval of integers. |\r\n",
    "| Single quote | Symbol ‘ ‘ used to represent strings in python. |\r\n",
    "| Slicing in Python | Slicing is used to return a portion from defined list. |\r\n",
    "| Special characters | A special character is one that is not considered a number or letter. Symbols, accent marks, and punctuation marks are considered special characters. |\r\n",
    "| Stride value | Stride is the number of bytes from one row of pixels in memory to the next row of pixels in memory. |\r\n",
    "| Strings | In Python, Strings are arrays of bytes representing Unicode characters. |\r\n",
    "| Substring | A substring is a sequence of characters that are part of an original string. |\r\n",
    "| Type casting | The process of converting one data type to another data type is called Typecasting or Type Coercion or Type Conversion. |\r\n",
    "| Types in Python | Data types are the classification or categorization of data items. It represents the kind of value that tells what operations can be performed on a particular data. |\r\n",
    "| Variables | Variables are containers for storing data values. |"
   ]
  },
  {
   "cell_type": "code",
   "execution_count": null,
   "id": "7e3ccebe-64dd-4b84-a8c0-3c495cd41abd",
   "metadata": {},
   "outputs": [],
   "source": []
  }
 ],
 "metadata": {
  "kernelspec": {
   "display_name": "Python 3 (ipykernel)",
   "language": "python",
   "name": "python3"
  },
  "language_info": {
   "codemirror_mode": {
    "name": "ipython",
    "version": 3
   },
   "file_extension": ".py",
   "mimetype": "text/x-python",
   "name": "python",
   "nbconvert_exporter": "python",
   "pygments_lexer": "ipython3",
   "version": "3.11.6"
  }
 },
 "nbformat": 4,
 "nbformat_minor": 5
}
