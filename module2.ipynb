{
 "cells": [
  {
   "cell_type": "markdown",
   "id": "6a3bc795-df23-4b4b-b836-576366b3154d",
   "metadata": {},
   "source": [
    "## Lists and Tuples\n",
    "### Introduce: Tuples\n",
    "* Tuples are an ordered sequence.\n",
    "* 元組是有序序列，表示法為放置括號內且用逗號分隔。  \n",
    "  ex. tuple1 = (10,9,6,5,10,8,9,6,2)\n",
    "* string, int float皆可被放置在tuple中。  \n",
    "    ex. tuple1 = ('hello', 10, 1.2)\n",
    "* tuples用索引獲取資料內容。\n",
    "```\n",
    "ex. tuple1 = ('hello', 10, 1.2)  \n",
    "             (  [0]  ,[1], [2])\n",
    "             ( [-3]  ,[-2],[-1])\n",
    "   ``` \n"
   ]
  },
  {
   "cell_type": "code",
   "execution_count": 9,
   "id": "afa0eb00-6787-443b-8052-8ecd60950229",
   "metadata": {},
   "outputs": [
    {
     "name": "stdout",
     "output_type": "stream",
     "text": [
      "tuple1[0]: hello\n",
      "tuple1[-3]: hello\n"
     ]
    }
   ],
   "source": [
    "tuple1 = ('hello', 10, 1.2) \n",
    "print(\"tuple1[0]:\",tuple1[0])\n",
    "print(\"tuple1[-3]:\",tuple1[-3])\n"
   ]
  },
  {
   "cell_type": "markdown",
   "id": "e04b5bf5-df50-4ca0-b173-d9517b1d31ee",
   "metadata": {},
   "source": [
    "### Concatenating\n",
    "* Can concatenate or combine tuples by adding them.  \n",
    "  ex. tuple2 = tuple1 + (\"world\", -60)"
   ]
  },
  {
   "cell_type": "code",
   "execution_count": 4,
   "id": "ea513bde-3be3-4da0-bbf8-b1dcbbb9c307",
   "metadata": {},
   "outputs": [
    {
     "name": "stdout",
     "output_type": "stream",
     "text": [
      "('hello', 10, 1.2, 'world', -60)\n"
     ]
    }
   ],
   "source": [
    "# concatenatong\n",
    "tuple2 = tuple1 + (\"world\", -60)\n",
    "print(tuple2)"
   ]
  },
  {
   "cell_type": "markdown",
   "id": "ca4a6bd5-7c24-4f7c-bfda-262e9a3027b1",
   "metadata": {},
   "source": [
    "### Slicing\n",
    "* 取得一個元組中的多個元素  \n",
    "  tuple[起始索引，結束索引]"
   ]
  },
  {
   "cell_type": "code",
   "execution_count": 5,
   "id": "79cb32e5-9cc3-4469-949e-07a96c1da4a9",
   "metadata": {},
   "outputs": [
    {
     "name": "stdout",
     "output_type": "stream",
     "text": [
      "tuple2: ('hello', 10, 1.2, 'world', -60)\n",
      "slicing ('hello', 10)\n"
     ]
    }
   ],
   "source": [
    "print(\"tuple2:\",tuple2)\n",
    "\n",
    "print(\"slicing\",tuple2[0:2])"
   ]
  },
  {
   "cell_type": "code",
   "execution_count": 6,
   "id": "c1da132e-bad2-477f-ae4d-a2399376b37d",
   "metadata": {},
   "outputs": [
    {
     "data": {
      "text/plain": [
       "5"
      ]
     },
     "execution_count": 6,
     "metadata": {},
     "output_type": "execute_result"
    }
   ],
   "source": [
    "len(tuple2)"
   ]
  },
  {
   "cell_type": "markdown",
   "id": "2bbd62bb-ac36-4cb3-8f08-e2f5db36c8df",
   "metadata": {},
   "source": [
    "### Immutable\n",
    "* tuple是不可變的\n",
    "* 如果希望變更tuple內的元素，需要新建一個新的tuple\n",
    "\n",
    "#### sorted()\n",
    "* sort tuple內的元素，由小到大排列\n",
    "* 不可排列字串\n",
    "\n"
   ]
  },
  {
   "cell_type": "code",
   "execution_count": 10,
   "id": "a23979f0-6ace-4b6c-a30f-310e7532eafe",
   "metadata": {},
   "outputs": [
    {
     "name": "stdout",
     "output_type": "stream",
     "text": [
      "('hello', 10, 1.2)\n"
     ]
    }
   ],
   "source": [
    "print(tuple1)"
   ]
  },
  {
   "cell_type": "code",
   "execution_count": 11,
   "id": "62ad0289-2199-48a8-bbec-02006eb3fa07",
   "metadata": {},
   "outputs": [
    {
     "ename": "TypeError",
     "evalue": "'tuple' object does not support item assignment",
     "output_type": "error",
     "traceback": [
      "\u001b[0;31m---------------------------------------------------------------------------\u001b[0m",
      "\u001b[0;31mTypeError\u001b[0m                                 Traceback (most recent call last)",
      "Cell \u001b[0;32mIn[11], line 1\u001b[0m\n\u001b[0;32m----> 1\u001b[0m \u001b[43mtuple1\u001b[49m\u001b[43m[\u001b[49m\u001b[38;5;241;43m0\u001b[39;49m\u001b[43m]\u001b[49m \u001b[38;5;241m=\u001b[39m \u001b[38;5;124m'\u001b[39m\u001b[38;5;124mwww\u001b[39m\u001b[38;5;124m'\u001b[39m\n",
      "\u001b[0;31mTypeError\u001b[0m: 'tuple' object does not support item assignment"
     ]
    }
   ],
   "source": [
    "tuple1[0] = 'www'"
   ]
  },
  {
   "cell_type": "code",
   "execution_count": 14,
   "id": "0677b549-caab-4c8e-b63c-ef452e0901d2",
   "metadata": {},
   "outputs": [
    {
     "name": "stdout",
     "output_type": "stream",
     "text": [
      "tuple2: (10, 9, 6, 5, 1, 0, 8, 9, -6, 2)\n",
      "sorted: [-6, 0, 1, 2, 5, 6, 8, 9, 9, 10]\n"
     ]
    }
   ],
   "source": [
    "tuple3=(10,9,6,5,1,0,8,9,-6,2)\n",
    "print(\"tuple2:\",tuple3)\n",
    "print(\"sorted:\",sorted(tuple3))"
   ]
  },
  {
   "cell_type": "markdown",
   "id": "e7309ea8-2405-4363-8a7f-9e8618d24db7",
   "metadata": {},
   "source": [
    "### Nesting\n",
    "* tuple中可以包含tuple或其他更複雜的資料結構  \n",
    "  ex.tuple_nest = (\"hi\", (\"nice\", 56, 4.2), (1.0,0))\n",
    "* 取的巢狀tuple中的資料  \n",
    "  ex.tuple_nest[1][2]"
   ]
  },
  {
   "cell_type": "code",
   "execution_count": 16,
   "id": "dc511a7e-3163-42f2-a257-e16e1326b5b6",
   "metadata": {},
   "outputs": [
    {
     "name": "stdout",
     "output_type": "stream",
     "text": [
      "('hi', ('nice', 56, 4.2), (1.0, 0))\n"
     ]
    }
   ],
   "source": [
    "tuple_nest = (\"hi\", (\"nice\", 56, 4.2), (1.0,0))\n",
    "print(tuple_nest)"
   ]
  },
  {
   "cell_type": "code",
   "execution_count": 18,
   "id": "a27274f3-6b22-465b-9090-988c1cf690b6",
   "metadata": {},
   "outputs": [
    {
     "name": "stdout",
     "output_type": "stream",
     "text": [
      "('nice', 56, 4.2)\n",
      "4.2\n"
     ]
    }
   ],
   "source": [
    "print(tuple_nest[1])\n",
    "print(tuple_nest[1][2])"
   ]
  },
  {
   "cell_type": "markdown",
   "id": "d38ea25c-cedf-49b2-a1c7-31b8b48b866d",
   "metadata": {},
   "source": [
    "### Introduce: Lists\n",
    "* 列表是有序序列，表示法為放置中括號內且用逗號分隔。  \n",
    "  ex.list1=['hello', 10, 1.2]\n",
    "* Lists 也具有巢狀結構，也利用索引取值\n",
    "* 與tuple非常相似，但不同點在於，list是可變的(mutable)\n",
    "* 更改元素\n",
    "1. 可透過索引更改元素  \n",
    "   ex.list1[1] = 'jenny'\n",
    "* 新增元素\n",
    "1. `extend()`加入元素在list最後面  \n",
    "   ex. list1.extend([\"new\", \"data\"])\n",
    "2. `append()`在尾端加入一個新元素  \n",
    "   ex. list1.append([\"use_append\", 3.14])\n",
    "3. `insert()`在特定位置加入一個元素  \n",
    "   ex.list1insert(index, element)\n",
    "* 刪除元素\n",
    "1. `del()`  \n",
    "   ex. del(list_name[index])\n",
    "2. `pop()`, It removes and returns the element at the specified index.  \n",
    "    ex. removed_element = list_name.pop(index)\n",
    "3. `remove()`, removes the first occurrence of the specified value.  \n",
    "   ex.list_name.remove(element)"
   ]
  },
  {
   "cell_type": "code",
   "execution_count": 25,
   "id": "94014422-e7bd-4d9a-a589-daed070cf720",
   "metadata": {},
   "outputs": [
    {
     "name": "stdout",
     "output_type": "stream",
     "text": [
      "list1: ['hello', 10, 1.2]\n",
      "list2: ['hi', ',', 'how are you', 1.2]\n"
     ]
    }
   ],
   "source": [
    "list1=['hello', 10, 1.2]\n",
    "list2=['hi', ',', 'how are you', 1.2]\n",
    "\n",
    "print(\"list1:\", list1)\n",
    "print(\"list2:\", list2)"
   ]
  },
  {
   "cell_type": "code",
   "execution_count": 26,
   "id": "835f3c31-08b6-4b5d-aacd-f51d8d8dc625",
   "metadata": {},
   "outputs": [
    {
     "name": "stdout",
     "output_type": "stream",
     "text": [
      "new list1: ['hello', 10, 1.2, 'hi', ',', 'how are you', 1.2]\n"
     ]
    }
   ],
   "source": [
    "list1.extend(list2)\n",
    "print(\"new list1:\",list1)"
   ]
  },
  {
   "cell_type": "code",
   "execution_count": 27,
   "id": "c15b8547-7b82-4540-ad32-e42e7d03ae9b",
   "metadata": {},
   "outputs": [
    {
     "name": "stdout",
     "output_type": "stream",
     "text": [
      "new list1: ['hello', 'jenny', 1.2, 'hi', ',', 'how are you', 1.2]\n"
     ]
    }
   ],
   "source": [
    "list1[1] = 'jenny'\n",
    "print(\"new list1:\",list1)\n"
   ]
  },
  {
   "cell_type": "code",
   "execution_count": 29,
   "id": "ddccba5c-b15c-4709-a058-15f634dc2558",
   "metadata": {},
   "outputs": [
    {
     "name": "stdout",
     "output_type": "stream",
     "text": [
      "new list1: ['hello', 'jenny', 1.2, 'hi', ',', 'how are you', 1.2, ['use_append', 3.14]]\n"
     ]
    }
   ],
   "source": [
    "list1.append([\"use_append\", 3.14])\n",
    "print(\"new list1:\",list1)\n"
   ]
  },
  {
   "cell_type": "code",
   "execution_count": 30,
   "id": "d2d3b887-a67b-42f2-a574-7db926951967",
   "metadata": {},
   "outputs": [
    {
     "name": "stdout",
     "output_type": "stream",
     "text": [
      "new list1: ['jenny', 1.2, 'hi', ',', 'how are you', 1.2, ['use_append', 3.14]]\n"
     ]
    }
   ],
   "source": [
    "del(list1[0])\n",
    "print(\"new list1:\",list1)\n"
   ]
  },
  {
   "cell_type": "markdown",
   "id": "94a0c130-b3d2-42b0-804a-48af6e650c2d",
   "metadata": {},
   "source": [
    "### Clone\n",
    "* 如果用list2直接賦值list1的值，若想要更改list2的內容，此時list1的值也會被更改，因為他們指向的是同個list，但使用clone後，可以複製一份一樣的資料，使資料一樣，但指向的list不一樣，此時再更改list2的內容，list1的值就不會被更改了  \n",
    "  ex. list2 = list1[:]  \n",
    "      list2 = list1.copy()"
   ]
  },
  {
   "cell_type": "code",
   "execution_count": 32,
   "id": "f47a8c11-b555-40cf-bbe6-a93947a6d09e",
   "metadata": {},
   "outputs": [
    {
     "name": "stdout",
     "output_type": "stream",
     "text": [
      "A: ['blueberry', 'apple', 'banana', 'orange']\n",
      "B: ['blueberry', 'apple', 'banana', 'orange']\n"
     ]
    }
   ],
   "source": [
    "A = [\"fruit\", \"apple\", \"banana\", \"orange\"]\n",
    "B = A\n",
    "B[0] = \"blueberry\"\n",
    "print(\"A:\", A)\n",
    "print(\"B:\", B)"
   ]
  },
  {
   "cell_type": "code",
   "execution_count": 35,
   "id": "5d55ab1c-e371-4fe1-9c8c-cc318d607655",
   "metadata": {},
   "outputs": [
    {
     "name": "stdout",
     "output_type": "stream",
     "text": [
      "A: ['blueberry', 'apple', 'banana', 'orange']\n",
      "B: ['watermelon', 'apple', 'banana', 'orange']\n",
      "C: ['blueberry', 'apple', 'banana', 'orange']\n"
     ]
    }
   ],
   "source": [
    "B = A[:]\n",
    "C = A.copy()\n",
    "B[0] = \"watermelon\"\n",
    "print(\"A:\", A)\n",
    "print(\"B:\", B)\n",
    "print(\"C:\", C)"
   ]
  },
  {
   "cell_type": "markdown",
   "id": "9bca095c-9ab8-4bdc-a271-a6f71967ab06",
   "metadata": {
    "scrolled": true
   },
   "source": [
    "### help()\n",
    "* `help(陣列、元組...等資料結構的參數名)`  \n",
    "可以獲取相關資料結構的更多資訊"
   ]
  },
  {
   "cell_type": "code",
   "execution_count": 34,
   "id": "60a1a036-227b-4329-9cc2-44667a7ab3d8",
   "metadata": {
    "collapsed": true,
    "jupyter": {
     "outputs_hidden": true
    },
    "scrolled": true
   },
   "outputs": [
    {
     "name": "stdout",
     "output_type": "stream",
     "text": [
      "Help on list object:\n",
      "\n",
      "class list(object)\n",
      " |  list(iterable=(), /)\n",
      " |  \n",
      " |  Built-in mutable sequence.\n",
      " |  \n",
      " |  If no argument is given, the constructor creates a new empty list.\n",
      " |  The argument must be an iterable if specified.\n",
      " |  \n",
      " |  Methods defined here:\n",
      " |  \n",
      " |  __add__(self, value, /)\n",
      " |      Return self+value.\n",
      " |  \n",
      " |  __contains__(self, key, /)\n",
      " |      Return key in self.\n",
      " |  \n",
      " |  __delitem__(self, key, /)\n",
      " |      Delete self[key].\n",
      " |  \n",
      " |  __eq__(self, value, /)\n",
      " |      Return self==value.\n",
      " |  \n",
      " |  __ge__(self, value, /)\n",
      " |      Return self>=value.\n",
      " |  \n",
      " |  __getattribute__(self, name, /)\n",
      " |      Return getattr(self, name).\n",
      " |  \n",
      " |  __getitem__(...)\n",
      " |      x.__getitem__(y) <==> x[y]\n",
      " |  \n",
      " |  __gt__(self, value, /)\n",
      " |      Return self>value.\n",
      " |  \n",
      " |  __iadd__(self, value, /)\n",
      " |      Implement self+=value.\n",
      " |  \n",
      " |  __imul__(self, value, /)\n",
      " |      Implement self*=value.\n",
      " |  \n",
      " |  __init__(self, /, *args, **kwargs)\n",
      " |      Initialize self.  See help(type(self)) for accurate signature.\n",
      " |  \n",
      " |  __iter__(self, /)\n",
      " |      Implement iter(self).\n",
      " |  \n",
      " |  __le__(self, value, /)\n",
      " |      Return self<=value.\n",
      " |  \n",
      " |  __len__(self, /)\n",
      " |      Return len(self).\n",
      " |  \n",
      " |  __lt__(self, value, /)\n",
      " |      Return self<value.\n",
      " |  \n",
      " |  __mul__(self, value, /)\n",
      " |      Return self*value.\n",
      " |  \n",
      " |  __ne__(self, value, /)\n",
      " |      Return self!=value.\n",
      " |  \n",
      " |  __repr__(self, /)\n",
      " |      Return repr(self).\n",
      " |  \n",
      " |  __reversed__(self, /)\n",
      " |      Return a reverse iterator over the list.\n",
      " |  \n",
      " |  __rmul__(self, value, /)\n",
      " |      Return value*self.\n",
      " |  \n",
      " |  __setitem__(self, key, value, /)\n",
      " |      Set self[key] to value.\n",
      " |  \n",
      " |  __sizeof__(self, /)\n",
      " |      Return the size of the list in memory, in bytes.\n",
      " |  \n",
      " |  append(self, object, /)\n",
      " |      Append object to the end of the list.\n",
      " |  \n",
      " |  clear(self, /)\n",
      " |      Remove all items from list.\n",
      " |  \n",
      " |  copy(self, /)\n",
      " |      Return a shallow copy of the list.\n",
      " |  \n",
      " |  count(self, value, /)\n",
      " |      Return number of occurrences of value.\n",
      " |  \n",
      " |  extend(self, iterable, /)\n",
      " |      Extend list by appending elements from the iterable.\n",
      " |  \n",
      " |  index(self, value, start=0, stop=9223372036854775807, /)\n",
      " |      Return first index of value.\n",
      " |      \n",
      " |      Raises ValueError if the value is not present.\n",
      " |  \n",
      " |  insert(self, index, object, /)\n",
      " |      Insert object before index.\n",
      " |  \n",
      " |  pop(self, index=-1, /)\n",
      " |      Remove and return item at index (default last).\n",
      " |      \n",
      " |      Raises IndexError if list is empty or index is out of range.\n",
      " |  \n",
      " |  remove(self, value, /)\n",
      " |      Remove first occurrence of value.\n",
      " |      \n",
      " |      Raises ValueError if the value is not present.\n",
      " |  \n",
      " |  reverse(self, /)\n",
      " |      Reverse *IN PLACE*.\n",
      " |  \n",
      " |  sort(self, /, *, key=None, reverse=False)\n",
      " |      Sort the list in ascending order and return None.\n",
      " |      \n",
      " |      The sort is in-place (i.e. the list itself is modified) and stable (i.e. the\n",
      " |      order of two equal elements is maintained).\n",
      " |      \n",
      " |      If a key function is given, apply it once to each list item and sort them,\n",
      " |      ascending or descending, according to their function values.\n",
      " |      \n",
      " |      The reverse flag can be set to sort in descending order.\n",
      " |  \n",
      " |  ----------------------------------------------------------------------\n",
      " |  Class methods defined here:\n",
      " |  \n",
      " |  __class_getitem__(...) from builtins.type\n",
      " |      See PEP 585\n",
      " |  \n",
      " |  ----------------------------------------------------------------------\n",
      " |  Static methods defined here:\n",
      " |  \n",
      " |  __new__(*args, **kwargs) from builtins.type\n",
      " |      Create and return a new object.  See help(type) for accurate signature.\n",
      " |  \n",
      " |  ----------------------------------------------------------------------\n",
      " |  Data and other attributes defined here:\n",
      " |  \n",
      " |  __hash__ = None\n",
      "\n"
     ]
    }
   ],
   "source": [
    "help(A)"
   ]
  },
  {
   "cell_type": "markdown",
   "id": "6e2f2fd0-fccf-4fc4-ab70-3b6a68052a22",
   "metadata": {},
   "source": [
    "### reverse()\n",
    "The `reverse()` method is used to reverse the order of elements in a list"
   ]
  },
  {
   "cell_type": "code",
   "execution_count": 37,
   "id": "c6cba8ba-b9db-4dec-b2b4-5d4f9e171794",
   "metadata": {},
   "outputs": [
    {
     "name": "stdout",
     "output_type": "stream",
     "text": [
      "[5, 4, 3, 2, 1]\n"
     ]
    }
   ],
   "source": [
    "my_list = [1, 2, 3, 4, 5] \n",
    "my_list.reverse()\n",
    "print(my_list)"
   ]
  },
  {
   "cell_type": "markdown",
   "id": "9fb3c8dd-778b-48fa-8c0b-f08a3db7831a",
   "metadata": {},
   "source": [
    "### sort()\n",
    "The `sort()` method is used to sort the elements of a list in ascending order. If you want to sort the list in descending order, you can pass the `reverse=True` argument to the `sort()` method."
   ]
  },
  {
   "cell_type": "code",
   "execution_count": 39,
   "id": "99e68280-6df0-4537-b181-4ebda60b201f",
   "metadata": {},
   "outputs": [
    {
     "name": "stdout",
     "output_type": "stream",
     "text": [
      "[1, 2, 5, 8, 9]\n"
     ]
    }
   ],
   "source": [
    "my_list = [5, 2, 8, 1, 9] \n",
    "my_list.sort() \n",
    "print(my_list) "
   ]
  },
  {
   "cell_type": "code",
   "execution_count": 40,
   "id": "ccbc9e62-2e5a-4016-a52c-5c70d980f5fd",
   "metadata": {},
   "outputs": [
    {
     "name": "stdout",
     "output_type": "stream",
     "text": [
      "[9, 8, 5, 2, 1]\n"
     ]
    }
   ],
   "source": [
    "my_list = [5, 2, 8, 1, 9] \n",
    "my_list.sort(reverse=True) \n",
    "print(my_list) "
   ]
  },
  {
   "cell_type": "code",
   "execution_count": 41,
   "id": "38a7c491-4785-4f26-a93d-b513b4c2fade",
   "metadata": {},
   "outputs": [
    {
     "name": "stdout",
     "output_type": "stream",
     "text": [
      "[1, 2, 3, 1, 1, 1]\n"
     ]
    }
   ],
   "source": [
    "a = [1,2,3]+[1,1,1]\n",
    "print(a)"
   ]
  },
  {
   "attachments": {},
   "cell_type": "markdown",
   "id": "212c254b-0a91-448f-8e1f-bf51e6ff523c",
   "metadata": {},
   "source": [
    "## Dictionaries\n",
    "* 字典的index為key，key同樣作為索引存在，但不限於一定是整數。  \n",
    "<img src=\"https://cf-courses-data.s3.us.cloud-object-storage.appdomain.cloud/IBMDeveloperSkillsNetwork-PY0101EN-SkillsNetwork/labs/Module%202/images/DictsList.png\" width=\"650\">\n",
    "  \n",
    "* 字典使用大括號{}(curly bravkets)，括號內將key與value用:隔開，每個鍵值和值對用逗號分隔。\n",
    "* key必須是不可變且獨特的，value則沒有限制。  \n",
    "  ex. dict = {\"key1\":1, \"key2\":\"2\", \"key3\":[3,3,3],\"key4\":(4,4),(\"key5\"):5}  \n",
    "* `dict_name[key]=value`增加新的值對:  \n",
    "  ex. dict[\"key6\"]=\"new value\"\n",
    "* `del()`刪除特定值對:  \n",
    "  ex. del(dict[\"key1\"])\n",
    "* `in`驗證字典中是否存在該元素，回傳bool值。  \n",
    "  ex. \"key6\" in dict\n",
    "* `keys()`獲取所有key值，輸出包含所有key\n",
    "* `values()`獲取所有value值，輸出包含所有value"
   ]
  },
  {
   "cell_type": "code",
   "execution_count": 44,
   "id": "ad70d3ef-6acb-4831-9b81-6594c2257305",
   "metadata": {},
   "outputs": [
    {
     "data": {
      "text/plain": [
       "{'key1': 1,\n",
       " 'key2': '2',\n",
       " 'key3': [3, 3, 3],\n",
       " 'key4': (4, 4, 4),\n",
       " 'key5': 5,\n",
       " (0, 1): 6}"
      ]
     },
     "execution_count": 44,
     "metadata": {},
     "output_type": "execute_result"
    }
   ],
   "source": [
    "dict = {\"key1\": 1, \"key2\": \"2\", \"key3\": [3, 3, 3], \"key4\": (4, 4, 4), ('key5'): 5, (0, 1): 6}\n",
    "dict"
   ]
  },
  {
   "cell_type": "code",
   "execution_count": 45,
   "id": "bafb0ca6-e7e0-4dfe-88b9-b5d3e6457c50",
   "metadata": {},
   "outputs": [
    {
     "data": {
      "text/plain": [
       "1"
      ]
     },
     "execution_count": 45,
     "metadata": {},
     "output_type": "execute_result"
    }
   ],
   "source": [
    "dict[\"key1\"]"
   ]
  },
  {
   "cell_type": "code",
   "execution_count": 46,
   "id": "632df670-8cd0-4887-853a-296c4a4fdedb",
   "metadata": {},
   "outputs": [
    {
     "data": {
      "text/plain": [
       "6"
      ]
     },
     "execution_count": 46,
     "metadata": {},
     "output_type": "execute_result"
    }
   ],
   "source": [
    "dict[(0, 1)]"
   ]
  },
  {
   "cell_type": "code",
   "execution_count": 47,
   "id": "daa67eac-ba1d-46dc-ae8d-733a12190e04",
   "metadata": {},
   "outputs": [
    {
     "data": {
      "text/plain": [
       "{'Thriller': '1982',\n",
       " 'Back in Black': '1980',\n",
       " 'The Dark Side of the Moon': '1973',\n",
       " 'The Bodyguard': '1992',\n",
       " 'Bat Out of Hell': '1977',\n",
       " 'Their Greatest Hits (1971-1975)': '1976',\n",
       " 'Saturday Night Fever': '1977',\n",
       " 'Rumours': '1977'}"
      ]
     },
     "execution_count": 47,
     "metadata": {},
     "output_type": "execute_result"
    }
   ],
   "source": [
    "release_year_dict = {\"Thriller\": \"1982\", \"Back in Black\": \"1980\", \\\n",
    "                    \"The Dark Side of the Moon\": \"1973\", \"The Bodyguard\": \"1992\", \\\n",
    "                    \"Bat Out of Hell\": \"1977\", \"Their Greatest Hits (1971-1975)\": \"1976\", \\\n",
    "                    \"Saturday Night Fever\": \"1977\", \"Rumours\": \"1977\"}\n",
    "release_year_dict"
   ]
  },
  {
   "cell_type": "code",
   "execution_count": 48,
   "id": "f7520530-01f5-43ba-a55c-f8489f4a8627",
   "metadata": {},
   "outputs": [
    {
     "data": {
      "text/plain": [
       "dict_keys(['Thriller', 'Back in Black', 'The Dark Side of the Moon', 'The Bodyguard', 'Bat Out of Hell', 'Their Greatest Hits (1971-1975)', 'Saturday Night Fever', 'Rumours'])"
      ]
     },
     "execution_count": 48,
     "metadata": {},
     "output_type": "execute_result"
    }
   ],
   "source": [
    "release_year_dict.keys() "
   ]
  },
  {
   "cell_type": "code",
   "execution_count": 49,
   "id": "5e9f1ae3-20e0-4610-999a-0815f4436099",
   "metadata": {},
   "outputs": [
    {
     "data": {
      "text/plain": [
       "dict_values(['1982', '1980', '1973', '1992', '1977', '1976', '1977', '1977'])"
      ]
     },
     "execution_count": 49,
     "metadata": {},
     "output_type": "execute_result"
    }
   ],
   "source": [
    "release_year_dict.values() "
   ]
  },
  {
   "cell_type": "code",
   "execution_count": 50,
   "id": "c9a6f657-5872-45fb-92ac-2ac7ad712966",
   "metadata": {},
   "outputs": [
    {
     "data": {
      "text/plain": [
       "{'Thriller': '1982',\n",
       " 'Back in Black': '1980',\n",
       " 'The Dark Side of the Moon': '1973',\n",
       " 'The Bodyguard': '1992',\n",
       " 'Bat Out of Hell': '1977',\n",
       " 'Their Greatest Hits (1971-1975)': '1976',\n",
       " 'Saturday Night Fever': '1977',\n",
       " 'Rumours': '1977',\n",
       " 'Graduation': '2007'}"
      ]
     },
     "execution_count": 50,
     "metadata": {},
     "output_type": "execute_result"
    }
   ],
   "source": [
    "# Append value with key into dictionary\n",
    "\n",
    "release_year_dict['Graduation'] = '2007'\n",
    "release_year_dict"
   ]
  },
  {
   "cell_type": "code",
   "execution_count": 51,
   "id": "cd67f7a3-e5ea-47c1-9ba5-e99566d6bb41",
   "metadata": {},
   "outputs": [
    {
     "data": {
      "text/plain": [
       "{'Back in Black': '1980',\n",
       " 'The Dark Side of the Moon': '1973',\n",
       " 'The Bodyguard': '1992',\n",
       " 'Bat Out of Hell': '1977',\n",
       " 'Their Greatest Hits (1971-1975)': '1976',\n",
       " 'Saturday Night Fever': '1977',\n",
       " 'Rumours': '1977'}"
      ]
     },
     "execution_count": 51,
     "metadata": {},
     "output_type": "execute_result"
    }
   ],
   "source": [
    "# Delete entries by key\n",
    "\n",
    "del(release_year_dict['Thriller'])\n",
    "del(release_year_dict['Graduation'])\n",
    "release_year_dict"
   ]
  },
  {
   "cell_type": "code",
   "execution_count": 52,
   "id": "a3ec8e45-d65a-45f4-b709-f44d898d3707",
   "metadata": {},
   "outputs": [
    {
     "data": {
      "text/plain": [
       "True"
      ]
     },
     "execution_count": 52,
     "metadata": {},
     "output_type": "execute_result"
    }
   ],
   "source": [
    "# Verify the key is in the dictionary\n",
    "\n",
    "'The Bodyguard' in release_year_dict"
   ]
  },
  {
   "cell_type": "code",
   "execution_count": 56,
   "id": "a82552f6-32e9-4e4d-85d8-d0f40c413a05",
   "metadata": {
    "collapsed": true,
    "jupyter": {
     "outputs_hidden": true
    },
    "scrolled": true
   },
   "outputs": [
    {
     "data": {
      "text/plain": [
       "['Back in Black',\n",
       " 'The Dark Side of the Moon',\n",
       " 'The Bodyguard',\n",
       " 'Bat Out of Hell',\n",
       " 'Their Greatest Hits (1971-1975)',\n",
       " 'Saturday Night Fever',\n",
       " 'Rumours']"
      ]
     },
     "execution_count": 56,
     "metadata": {},
     "output_type": "execute_result"
    }
   ],
   "source": [
    "#extract the keys of a dictionary as a list\n",
    "list(release_year_dict.keys())"
   ]
  },
  {
   "cell_type": "markdown",
   "id": "10724c64-2041-4c34-86c9-55f50a1277f9",
   "metadata": {},
   "source": [
    "## Sets\n",
    "* Sets 是一種集合; Sets are a type of collection.  \n",
    "  Sets可以像lists跟tuples一樣輸入不同的類型\n",
    "* Sets是無序的，這與lists跟tuples不一樣。  \n",
    "  這代表Sets不適合紀錄元素位置。\n",
    "* Sets中只有獨特的元素。  \n",
    "  每種元素只能在Sets中出現一次\n",
    "* 使用大括號定義Sets  \n",
    "  ex. Set1 = {\"Hello\",\"Hi\",\"Hola\",\"Hello\",\"Hello\"}\n",
    "  僅管以上出現了多個重複元素，但真正存入set中的Hello只會有一個\n",
    "  <img src=\"https://cf-courses-data.s3.us.cloud-object-storage.appdomain.cloud/IBMDeveloperSkillsNetwork-PY0101EN-SkillsNetwork/labs/Module%202/images/SetsUnique.png\" width=\"1100\">\n"
   ]
  },
  {
   "cell_type": "code",
   "execution_count": 57,
   "id": "ac93ef2e-75cd-40d3-ba65-5fb89335e406",
   "metadata": {},
   "outputs": [
    {
     "data": {
      "text/plain": [
       "{'Hello', 'Hi', 'Hola'}"
      ]
     },
     "execution_count": 57,
     "metadata": {},
     "output_type": "execute_result"
    }
   ],
   "source": [
    "Set1 = {\"Hello\",\"Hi\",\"Hola\",\"Hello\",\"Hello\"}\n",
    "Set1"
   ]
  },
  {
   "cell_type": "markdown",
   "id": "a6e080ce-ebc1-463b-a6e5-c4b6cac28872",
   "metadata": {},
   "source": [
    "## 類型轉換\n",
    "* 使用函數集合將list轉換成set  \n",
    "  做法：使用list作為set的輸入，得到一個轉換為set的list"
   ]
  },
  {
   "cell_type": "code",
   "execution_count": 60,
   "id": "8150d5bd-3179-4a82-ab2d-2838d64bb8c5",
   "metadata": {},
   "outputs": [
    {
     "data": {
      "text/plain": [
       "{'R&B',\n",
       " 'disco',\n",
       " 'folk rock',\n",
       " 'hard rock',\n",
       " 'pop',\n",
       " 'progressive rock',\n",
       " 'rock',\n",
       " 'soft rock',\n",
       " 'soul'}"
      ]
     },
     "execution_count": 60,
     "metadata": {},
     "output_type": "execute_result"
    }
   ],
   "source": [
    "# Convert list to set\n",
    "music_list =[\"pop\", \"pop\", \"rock\", \"folk rock\", \"hard rock\", \"soul\", \"progressive rock\", \"soft rock\", \"R&B\", \"disco\"]\n",
    "music_genres = set(music_list)\n",
    "music_genres"
   ]
  },
  {
   "cell_type": "markdown",
   "id": "6117f89a-b02f-472e-a7eb-ddc994e6ad3e",
   "metadata": {},
   "source": [
    "### Set Operations \n",
    "* 新增元素\n",
    "1. `add()`加入元素  \n",
    "   ex. set.add(\"new element\")\n",
    "\n",
    "* 刪除元素\n",
    "1. `remove()`  \n",
    "   ex. set.remove(\"remove element\")\n",
    "* 驗證元素存在\n",
    "1. in 驗證Set中是否存在該元素，回傳bool值。  \r",
    "```\n",
    "ex.\"element\"\" i set  ```t`"
   ]
  },
  {
   "cell_type": "code",
   "execution_count": 61,
   "id": "0dbb8065-e43a-45ac-bf8a-6c74400a16aa",
   "metadata": {},
   "outputs": [
    {
     "data": {
      "text/plain": [
       "{'AC/DC', 'Back in Black', 'Thriller'}"
      ]
     },
     "execution_count": 61,
     "metadata": {},
     "output_type": "execute_result"
    }
   ],
   "source": [
    "A = set([\"Thriller\", \"Back in Black\", \"AC/DC\"])\n",
    "A"
   ]
  },
  {
   "cell_type": "code",
   "execution_count": 63,
   "id": "b9651d15-82b3-4e6a-8dec-96891f8d3c2f",
   "metadata": {},
   "outputs": [
    {
     "data": {
      "text/plain": [
       "{'AC/DC', 'Back in Black', 'NSYNC', 'Thriller'}"
      ]
     },
     "execution_count": 63,
     "metadata": {},
     "output_type": "execute_result"
    }
   ],
   "source": [
    "A.add(\"NSYNC\")\n",
    "# add same element twice nothing will happen\n",
    "A.add(\"NSYNC\")\n",
    "A"
   ]
  },
  {
   "cell_type": "code",
   "execution_count": 64,
   "id": "d86b8cd0-b8f9-4d06-a283-c34cb9f69cd3",
   "metadata": {},
   "outputs": [
    {
     "data": {
      "text/plain": [
       "{'AC/DC', 'Back in Black', 'Thriller'}"
      ]
     },
     "execution_count": 64,
     "metadata": {},
     "output_type": "execute_result"
    }
   ],
   "source": [
    "A.remove(\"NSYNC\")\n",
    "A"
   ]
  },
  {
   "cell_type": "code",
   "execution_count": 65,
   "id": "b0007924-0600-425a-846c-e65aa88cba32",
   "metadata": {},
   "outputs": [
    {
     "data": {
      "text/plain": [
       "True"
      ]
     },
     "execution_count": 65,
     "metadata": {},
     "output_type": "execute_result"
    }
   ],
   "source": [
    "'Back in Black' in A"
   ]
  },
  {
   "cell_type": "markdown",
   "id": "c9e82e69-6320-47a2-b950-a690ae8a9ccd",
   "metadata": {},
   "source": [
    "### Sets Logic Operations"
   ]
  },
  {
   "cell_type": "markdown",
   "id": "61a935b4-2d0e-4af5-bb89-ae1cc30ae542",
   "metadata": {},
   "source": [
    "<img src=\"https://cf-courses-data.s3.us.cloud-object-storage.appdomain.cloud/IBMDeveloperSkillsNetwork-PY0101EN-SkillsNetwork/labs/Module%202/images/SetsSamples.png\" width=\"650\">\n"
   ]
  },
  {
   "cell_type": "code",
   "execution_count": 78,
   "id": "6a59d04e-f415-49f8-ba7c-773935d82c3c",
   "metadata": {},
   "outputs": [
    {
     "name": "stdout",
     "output_type": "stream",
     "text": [
      "album_set1: {'Back in Black', 'Thriller', 'AC/DC'}\n",
      "album_set2: {'Back in Black', 'The Dark Side of the Moon', 'AC/DC'}\n"
     ]
    },
    {
     "data": {
      "text/plain": [
       "({'AC/DC', 'Back in Black', 'Thriller'},\n",
       " {'AC/DC', 'Back in Black', 'The Dark Side of the Moon'})"
      ]
     },
     "execution_count": 78,
     "metadata": {},
     "output_type": "execute_result"
    }
   ],
   "source": [
    "album_set1 = set([\"Thriller\", 'AC/DC', 'Back in Black'])\n",
    "album_set2 = set([ \"AC/DC\", \"Back in Black\", \"The Dark Side of the Moon\"])\n",
    "print(\"album_set1:\",album_set1)\n",
    "print(\"album_set2:\",album_set2)\n",
    "album_set1,album_set2"
   ]
  },
  {
   "cell_type": "markdown",
   "id": "7dd7dabe-e3e1-4b80-805e-45459b19ad74",
   "metadata": {},
   "source": [
    "### union\n",
    "<img src=\"https://cf-courses-data.s3.us.cloud-object-storage.appdomain.cloud/IBMDeveloperSkillsNetwork-PY0101EN-SkillsNetwork/labs/Module%202/images/SetsUnion.png\" width=\"650\">"
   ]
  },
  {
   "cell_type": "code",
   "execution_count": 83,
   "id": "d689d442-0195-474e-9314-757ec6ec740c",
   "metadata": {},
   "outputs": [
    {
     "data": {
      "text/plain": [
       "{'AC/DC', 'Back in Black', 'The Dark Side of the Moon', 'Thriller'}"
      ]
     },
     "execution_count": 83,
     "metadata": {},
     "output_type": "execute_result"
    }
   ],
   "source": [
    "# Find the union of two sets\n",
    "\n",
    "album_set1.union(album_set2)"
   ]
  },
  {
   "cell_type": "markdown",
   "id": "da8d531c-61f1-44c9-8b16-8f0b7d674efd",
   "metadata": {},
   "source": [
    "### intersect\n",
    "using <code>&</code> or <code>intersection</code> method\n",
    "<img src=\"https://cf-courses-data.s3.us.cloud-object-storage.appdomain.cloud/IBMDeveloperSkillsNetwork-PY0101EN-SkillsNetwork/labs/Module%202/images/SetsLogic.png\" width=\"650\">"
   ]
  },
  {
   "cell_type": "code",
   "execution_count": 77,
   "id": "507fcd64-9bf6-4730-aaaf-0be18b0046a4",
   "metadata": {},
   "outputs": [
    {
     "data": {
      "text/plain": [
       "{'AC/DC', 'Back in Black'}"
      ]
     },
     "execution_count": 77,
     "metadata": {},
     "output_type": "execute_result"
    }
   ],
   "source": [
    "intersection = album_set1 & album_set2\n",
    "intersection"
   ]
  },
  {
   "cell_type": "code",
   "execution_count": 82,
   "id": "ee81058a-4659-4c1b-bd54-7e34e5dd6b73",
   "metadata": {},
   "outputs": [
    {
     "data": {
      "text/plain": [
       "{'AC/DC', 'Back in Black'}"
      ]
     },
     "execution_count": 82,
     "metadata": {},
     "output_type": "execute_result"
    }
   ],
   "source": [
    "# Use intersection method to find the intersection of album_list1 and album_list2\n",
    "\n",
    "album_set1.intersection(album_set2)   "
   ]
  },
  {
   "cell_type": "markdown",
   "id": "41c26a1c-06ce-4f2b-8e70-508a56bef147",
   "metadata": {},
   "source": [
    "### Find the difference in set1 but not set2\n",
    "<img src=\"https://cf-courses-data.s3.us.cloud-object-storage.appdomain.cloud/IBMDeveloperSkillsNetwork-PY0101EN-SkillsNetwork/labs/Module%202/images/SetsLeft.png\" width=\"650\">\n",
    " "
   ]
  },
  {
   "cell_type": "code",
   "execution_count": 79,
   "id": "cdf3cd8c-4c1d-49be-bc40-91d682e98c01",
   "metadata": {},
   "outputs": [
    {
     "data": {
      "text/plain": [
       "{'Thriller'}"
      ]
     },
     "execution_count": 79,
     "metadata": {},
     "output_type": "execute_result"
    }
   ],
   "source": [
    "album_set1.difference(album_set2) "
   ]
  },
  {
   "cell_type": "markdown",
   "id": "5ce62797-8a10-41fa-8163-6473c0ffdd3d",
   "metadata": {},
   "source": [
    "<img src=\"https://cf-courses-data.s3.us.cloud-object-storage.appdomain.cloud/IBMDeveloperSkillsNetwork-PY0101EN-SkillsNetwork/labs/Module%202/images/SetsRight.png\" width=\"650\">"
   ]
  },
  {
   "cell_type": "code",
   "execution_count": 80,
   "id": "003cb0bc-b2a5-4f72-9c81-763443dd45ac",
   "metadata": {},
   "outputs": [
    {
     "data": {
      "text/plain": [
       "{'The Dark Side of the Moon'}"
      ]
     },
     "execution_count": 80,
     "metadata": {},
     "output_type": "execute_result"
    }
   ],
   "source": [
    "album_set2.difference(album_set1)  "
   ]
  },
  {
   "cell_type": "code",
   "execution_count": 84,
   "id": "5b961df1-9092-45fb-923e-ab95d875fc24",
   "metadata": {},
   "outputs": [
    {
     "data": {
      "text/plain": [
       "False"
      ]
     },
     "execution_count": 84,
     "metadata": {},
     "output_type": "execute_result"
    }
   ],
   "source": [
    "# Check if superset\n",
    "\n",
    "set(album_set1).issuperset(album_set2) "
   ]
  },
  {
   "cell_type": "code",
   "execution_count": 85,
   "id": "02b3bf50-fc20-49fe-b90e-ed4ced41f9e0",
   "metadata": {},
   "outputs": [
    {
     "data": {
      "text/plain": [
       "False"
      ]
     },
     "execution_count": 85,
     "metadata": {},
     "output_type": "execute_result"
    }
   ],
   "source": [
    "# Check if subset\n",
    "\n",
    "set(album_set2).issubset(album_set1)    "
   ]
  },
  {
   "cell_type": "code",
   "execution_count": 88,
   "id": "9c71883d-b381-405f-b46d-3e405cc1ab9b",
   "metadata": {},
   "outputs": [
    {
     "data": {
      "text/plain": [
       "True"
      ]
     },
     "execution_count": 88,
     "metadata": {},
     "output_type": "execute_result"
    }
   ],
   "source": [
    "# Check if subset子集\n",
    "\n",
    "\n",
    "set({\"Back in Black\", \"AC/DC\"}).issubset(album_set1)"
   ]
  },
  {
   "cell_type": "code",
   "execution_count": 87,
   "id": "56721ecf-a58c-4440-975b-bced336641f5",
   "metadata": {},
   "outputs": [
    {
     "data": {
      "text/plain": [
       "True"
      ]
     },
     "execution_count": 87,
     "metadata": {},
     "output_type": "execute_result"
    }
   ],
   "source": [
    "# Check if superset\n",
    "\n",
    "album_set1.issuperset({\"Back in Black\", \"AC/DC\"})   "
   ]
  },
  {
   "cell_type": "code",
   "execution_count": null,
   "id": "dc83148b-9920-479f-9d8b-c0b63ef785cf",
   "metadata": {},
   "outputs": [],
   "source": []
  }
 ],
 "metadata": {
  "kernelspec": {
   "display_name": "Python 3 (ipykernel)",
   "language": "python",
   "name": "python3"
  },
  "language_info": {
   "codemirror_mode": {
    "name": "ipython",
    "version": 3
   },
   "file_extension": ".py",
   "mimetype": "text/x-python",
   "name": "python",
   "nbconvert_exporter": "python",
   "pygments_lexer": "ipython3",
   "version": "3.11.6"
  }
 },
 "nbformat": 4,
 "nbformat_minor": 5
}
